{
  "nbformat": 4,
  "nbformat_minor": 0,
  "metadata": {
    "kernelspec": {
      "display_name": "Python 3",
      "language": "python",
      "name": "python3"
    },
    "language_info": {
      "codemirror_mode": {
        "name": "ipython",
        "version": 3
      },
      "file_extension": ".py",
      "mimetype": "text/x-python",
      "name": "python",
      "nbconvert_exporter": "python",
      "pygments_lexer": "ipython3",
      "version": "3.6.6"
    },
    "toc": {
      "base_numbering": 1,
      "nav_menu": {
        "height": "306px",
        "width": "240px"
      },
      "number_sections": true,
      "sideBar": true,
      "skip_h1_title": false,
      "title_cell": "Spis treści",
      "title_sidebar": "Zawartość",
      "toc_cell": true,
      "toc_position": {},
      "toc_section_display": "block",
      "toc_window_display": true
    },
    "colab": {
      "name": "Overview of Tensorflow.ipynb",
      "provenance": [],
      "include_colab_link": true
    }
  },
  "cells": [
    {
      "cell_type": "markdown",
      "metadata": {
        "id": "view-in-github",
        "colab_type": "text"
      },
      "source": [
        "<a href=\"https://colab.research.google.com/github/WSzymczak23/projekty-SDA/blob/main/Overview_of_Tensorflow.ipynb\" target=\"_parent\"><img src=\"https://colab.research.google.com/assets/colab-badge.svg\" alt=\"Open In Colab\"/></a>"
      ]
    },
    {
      "cell_type": "markdown",
      "metadata": {
        "toc": true,
        "id": "rk4T2TKX1lgs"
      },
      "source": [
        "<h1>Spis treści<span class=\"tocSkip\"></span></h1>\n",
        "<div class=\"toc\"><ul class=\"toc-item\"><li><span><a href=\"#Sesja-TensorFlow\" data-toc-modified-id=\"Sesja-TensorFlow-1\"><span class=\"toc-item-num\">1&nbsp;&nbsp;</span>Sesja TensorFlow</a></span></li><li><span><a href=\"#Stałe\" data-toc-modified-id=\"Stałe-2\"><span class=\"toc-item-num\">2&nbsp;&nbsp;</span>Stałe</a></span></li><li><span><a href=\"#Operacje\" data-toc-modified-id=\"Operacje-3\"><span class=\"toc-item-num\">3&nbsp;&nbsp;</span>Operacje</a></span></li><li><span><a href=\"#Węzły-zastępcze\" data-toc-modified-id=\"Węzły zastępcze-4\"><span class=\"toc-item-num\">4&nbsp;&nbsp;</span>Węzły zastępcze</a></span></li><li><span><a href=\"#Tworzenie-tensorów-z-istniejących-obiektów\" data-toc-modified-id=\"Tworzenie-tensorów-z-istniejących-obiektów-5\"><span class=\"toc-item-num\">5&nbsp;&nbsp;</span>Tworzenie tensorów z istniejących obiektów</a></span><ul class=\"toc-item\"><li><span><a href=\"#Tensory-zerowego-rzędu-(skalary)\" data-toc-modified-id=\"Tensory-zerowego-rzędu-(skalary)-5.1\"><span class=\"toc-item-num\">5.1&nbsp;&nbsp;</span>Tensory zerowego rzędu (skalary)</a></span></li><li><span><a href=\"#Tensory-1.-rzędu-(wektory)\" data-toc-modified-id=\"Tensory-1.-rzędu-(wektory)-5.2\"><span class=\"toc-item-num\">5.2&nbsp;&nbsp;</span>Tensory 1. rzędu (wektory)</a></span></li><li><span><a href=\"#Tensory-2.-rzędu-(macierze)\" data-toc-modified-id=\"Tensory-2.-rzędu-(macierze)-5.3\"><span class=\"toc-item-num\">5.3&nbsp;&nbsp;</span>Tensory 2. rzędu (macierze)</a></span></li><li><span><a href=\"#Tensory-3.-rzędu\" data-toc-modified-id=\"Tensory-3.-rzędu-5.4\"><span class=\"toc-item-num\">5.4&nbsp;&nbsp;</span>Tensory 3. rzędu</a></span></li></ul></li><li><span><a href=\"#Zmienne\" data-toc-modified-id=\"Zmienne-6\"><span class=\"toc-item-num\">6&nbsp;&nbsp;</span>Zmienne</a></span></li><li><span><a href=\"#Tworzenie-tensorów-z-funkcji-bibliotecznych\" data-toc-modified-id=\"Tworzenie-tensorów-z-funkcji-bibliotecznych-7\"><span class=\"toc-item-num\">7&nbsp;&nbsp;</span>Tworzenie tensorów z funkcji bibliotecznych</a></span></li><li><span><a href=\"#Zamknięcie-sesji-interaktywnej\" data-toc-modified-id=\"Zamknięcie-sesji-interaktywnej-8\"><span class=\"toc-item-num\">8&nbsp;&nbsp;</span>Zamknięcie sesji interaktywnej</a></span></li><li><span><a href=\"#Grafy-obliczeniowe\" data-toc-modified-id=\"Grafy-obliczeniowe-9\"><span class=\"toc-item-num\">9&nbsp;&nbsp;</span>Grafy obliczeniowe</a></span><ul class=\"toc-item\"><li><span><a href=\"#Budowa-i-uruchomienie-prostego-grafu-obliczeniowego\" data-toc-modified-id=\"Budowa-i-uruchomienie-prostego-grafu-obliczeniowego-9.1\"><span class=\"toc-item-num\">9.1&nbsp;&nbsp;</span>Budowa i uruchomienie prostego grafu obliczeniowego</a></span></li><li><span><a href=\"#Graf-na-urządzeniach-obliczeniowych\" data-toc-modified-id=\"Graf-na-urządzeniach-obliczeniowych-9.2\"><span class=\"toc-item-num\">9.2&nbsp;&nbsp;</span>Graf na urządzeniach obliczeniowych</a></span><ul class=\"toc-item\"><li><span><a href=\"#Lista-dostępnych-urządzeń\" data-toc-modified-id=\"Lista-dostępnych-urządzeń-9.2.1\"><span class=\"toc-item-num\">9.2.1&nbsp;&nbsp;</span>Lista dostępnych urządzeń</a></span></li><li><span><a href=\"#Domyślne-rozmieszczenie\" data-toc-modified-id=\"Domyślne-rozmieszczenie-9.2.2\"><span class=\"toc-item-num\">9.2.2&nbsp;&nbsp;</span>Domyślne rozmieszczenie</a></span></li><li><span><a href=\"#Rozmieszczanie-na-CPU\" data-toc-modified-id=\"Rozmieszczanie-na-CPU-9.2.3\"><span class=\"toc-item-num\">9.2.3&nbsp;&nbsp;</span>Rozmieszczanie na CPU</a></span></li><li><span><a href=\"#Rozmieszczanie-na-CPU-i-GPU\" data-toc-modified-id=\"Rozmieszczanie-na-CPU-i-GPU-9.2.4\"><span class=\"toc-item-num\">9.2.4&nbsp;&nbsp;</span>Rozmieszczanie na CPU i GPU</a></span></li></ul></li><li><span><a href=\"#Wykonywanie-grafu-g-jako-domyślnego\" data-toc-modified-id=\"Wykonywanie-grafu-g-jako-domyślnego-9.3\"><span class=\"toc-item-num\">9.3&nbsp;&nbsp;</span>Wykonywanie grafu g jako domyślnego</a></span></li></ul></li><li><span><a href=\"#Regresja-logistyczna-z-TensorFlow\" data-toc-modified-id=\"Regresja-logistyczna-z-TensorFlow-10\"><span class=\"toc-item-num\">10&nbsp;&nbsp;</span>Regresja logistyczna z TensorFlow</a></span></li><li><span><a href=\"#Regresja-logistyczna-z-Keras\" data-toc-modified-id=\"Regresja-logistyczna-z-Keras-11\"><span class=\"toc-item-num\">11&nbsp;&nbsp;</span>Regresja logistyczna z Keras</a></span></li></ul></div>"
      ]
    },
    {
      "cell_type": "markdown",
      "metadata": {
        "id": "5qUgMBan1lgv"
      },
      "source": [
        "# TensorFlow 101 <a class=\"tocSkip\">"
      ]
    },
    {
      "cell_type": "code",
      "metadata": {
        "colab": {
          "base_uri": "https://localhost:8080/"
        },
        "id": "7dqdeiA31lgw",
        "outputId": "795e70e5-12eb-4bf3-ad93-c0c66da47a1e"
      },
      "source": [
        "!pip install tensorflow==1.14\n",
        "import tensorflow as tf\n",
        "print(tf.__version__)\n",
        "import numpy as np\n",
        "print('Wersja Numpy :',np.__version__)\n",
        "import sys\n",
        "print('Interpreter Pythona i wersja:',sys.version)"
      ],
      "execution_count": null,
      "outputs": [
        {
          "output_type": "stream",
          "text": [
            "Collecting tensorflow==1.14\n",
            "\u001b[?25l  Downloading https://files.pythonhosted.org/packages/f4/28/96efba1a516cdacc2e2d6d081f699c001d414cc8ca3250e6d59ae657eb2b/tensorflow-1.14.0-cp37-cp37m-manylinux1_x86_64.whl (109.3MB)\n",
            "\u001b[K     |████████████████████████████████| 109.3MB 91kB/s \n",
            "\u001b[?25hRequirement already satisfied: astor>=0.6.0 in /usr/local/lib/python3.7/dist-packages (from tensorflow==1.14) (0.8.1)\n",
            "Requirement already satisfied: numpy<2.0,>=1.14.5 in /usr/local/lib/python3.7/dist-packages (from tensorflow==1.14) (1.19.5)\n",
            "Requirement already satisfied: wrapt>=1.11.1 in /usr/local/lib/python3.7/dist-packages (from tensorflow==1.14) (1.12.1)\n",
            "Requirement already satisfied: google-pasta>=0.1.6 in /usr/local/lib/python3.7/dist-packages (from tensorflow==1.14) (0.2.0)\n",
            "Requirement already satisfied: gast>=0.2.0 in /usr/local/lib/python3.7/dist-packages (from tensorflow==1.14) (0.4.0)\n",
            "Requirement already satisfied: termcolor>=1.1.0 in /usr/local/lib/python3.7/dist-packages (from tensorflow==1.14) (1.1.0)\n",
            "Requirement already satisfied: protobuf>=3.6.1 in /usr/local/lib/python3.7/dist-packages (from tensorflow==1.14) (3.12.4)\n",
            "Requirement already satisfied: absl-py>=0.7.0 in /usr/local/lib/python3.7/dist-packages (from tensorflow==1.14) (0.12.0)\n",
            "Requirement already satisfied: keras-preprocessing>=1.0.5 in /usr/local/lib/python3.7/dist-packages (from tensorflow==1.14) (1.1.2)\n",
            "Collecting tensorflow-estimator<1.15.0rc0,>=1.14.0rc0\n",
            "\u001b[33m  WARNING: Retrying (Retry(total=4, connect=None, read=None, redirect=None, status=None)) after connection broken by 'ProtocolError('Connection aborted.', ConnectionResetError(104, 'Connection reset by peer'))': /packages/3c/d5/21860a5b11caf0678fbc8319341b0ae21a07156911132e0e71bffed0510d/tensorflow_estimator-1.14.0-py2.py3-none-any.whl\u001b[0m\n",
            "\u001b[?25l  Downloading https://files.pythonhosted.org/packages/3c/d5/21860a5b11caf0678fbc8319341b0ae21a07156911132e0e71bffed0510d/tensorflow_estimator-1.14.0-py2.py3-none-any.whl (488kB)\n",
            "\u001b[K     |████████████████████████████████| 491kB 8.7MB/s \n",
            "\u001b[33mWARNING: Retrying (Retry(total=4, connect=None, read=None, redirect=None, status=None)) after connection broken by 'ProtocolError('Connection aborted.', ConnectionResetError(104, 'Connection reset by peer'))': /simple/tensorboard/\u001b[0m\n",
            "\u001b[?25hCollecting tensorboard<1.15.0,>=1.14.0\n",
            "\u001b[?25l  Downloading https://files.pythonhosted.org/packages/91/2d/2ed263449a078cd9c8a9ba50ebd50123adf1f8cfbea1492f9084169b89d9/tensorboard-1.14.0-py3-none-any.whl (3.1MB)\n",
            "\u001b[K     |████████████████████████████████| 3.2MB 16.4MB/s \n",
            "\u001b[?25hRequirement already satisfied: six>=1.10.0 in /usr/local/lib/python3.7/dist-packages (from tensorflow==1.14) (1.15.0)\n",
            "Requirement already satisfied: wheel>=0.26 in /usr/local/lib/python3.7/dist-packages (from tensorflow==1.14) (0.36.2)\n",
            "Collecting keras-applications>=1.0.6\n",
            "\u001b[?25l  Downloading https://files.pythonhosted.org/packages/71/e3/19762fdfc62877ae9102edf6342d71b28fbfd9dea3d2f96a882ce099b03f/Keras_Applications-1.0.8-py3-none-any.whl (50kB)\n",
            "\u001b[K     |████████████████████████████████| 51kB 6.6MB/s \n",
            "\u001b[?25hRequirement already satisfied: grpcio>=1.8.6 in /usr/local/lib/python3.7/dist-packages (from tensorflow==1.14) (1.34.1)\n",
            "Requirement already satisfied: setuptools in /usr/local/lib/python3.7/dist-packages (from protobuf>=3.6.1->tensorflow==1.14) (57.0.0)\n",
            "Requirement already satisfied: werkzeug>=0.11.15 in /usr/local/lib/python3.7/dist-packages (from tensorboard<1.15.0,>=1.14.0->tensorflow==1.14) (1.0.1)\n",
            "Requirement already satisfied: markdown>=2.6.8 in /usr/local/lib/python3.7/dist-packages (from tensorboard<1.15.0,>=1.14.0->tensorflow==1.14) (3.3.4)\n",
            "Requirement already satisfied: h5py in /usr/local/lib/python3.7/dist-packages (from keras-applications>=1.0.6->tensorflow==1.14) (3.1.0)\n",
            "Requirement already satisfied: importlib-metadata; python_version < \"3.8\" in /usr/local/lib/python3.7/dist-packages (from markdown>=2.6.8->tensorboard<1.15.0,>=1.14.0->tensorflow==1.14) (4.0.1)\n",
            "Requirement already satisfied: cached-property; python_version < \"3.8\" in /usr/local/lib/python3.7/dist-packages (from h5py->keras-applications>=1.0.6->tensorflow==1.14) (1.5.2)\n",
            "Requirement already satisfied: zipp>=0.5 in /usr/local/lib/python3.7/dist-packages (from importlib-metadata; python_version < \"3.8\"->markdown>=2.6.8->tensorboard<1.15.0,>=1.14.0->tensorflow==1.14) (3.4.1)\n",
            "Requirement already satisfied: typing-extensions>=3.6.4; python_version < \"3.8\" in /usr/local/lib/python3.7/dist-packages (from importlib-metadata; python_version < \"3.8\"->markdown>=2.6.8->tensorboard<1.15.0,>=1.14.0->tensorflow==1.14) (3.7.4.3)\n",
            "\u001b[31mERROR: kapre 0.3.5 has requirement tensorflow>=2.0.0, but you'll have tensorflow 1.14.0 which is incompatible.\u001b[0m\n",
            "Installing collected packages: tensorflow-estimator, tensorboard, keras-applications, tensorflow\n",
            "  Found existing installation: tensorflow-estimator 2.5.0\n",
            "    Uninstalling tensorflow-estimator-2.5.0:\n",
            "      Successfully uninstalled tensorflow-estimator-2.5.0\n",
            "  Found existing installation: tensorboard 2.5.0\n",
            "    Uninstalling tensorboard-2.5.0:\n",
            "      Successfully uninstalled tensorboard-2.5.0\n",
            "  Found existing installation: tensorflow 2.5.0\n",
            "    Uninstalling tensorflow-2.5.0:\n",
            "      Successfully uninstalled tensorflow-2.5.0\n",
            "Successfully installed keras-applications-1.0.8 tensorboard-1.14.0 tensorflow-1.14.0 tensorflow-estimator-1.14.0\n"
          ],
          "name": "stdout"
        },
        {
          "output_type": "stream",
          "text": [
            "/usr/local/lib/python3.7/dist-packages/tensorflow/python/framework/dtypes.py:516: FutureWarning: Passing (type, 1) or '1type' as a synonym of type is deprecated; in a future version of numpy, it will be understood as (type, (1,)) / '(1,)type'.\n",
            "  _np_qint8 = np.dtype([(\"qint8\", np.int8, 1)])\n",
            "/usr/local/lib/python3.7/dist-packages/tensorflow/python/framework/dtypes.py:517: FutureWarning: Passing (type, 1) or '1type' as a synonym of type is deprecated; in a future version of numpy, it will be understood as (type, (1,)) / '(1,)type'.\n",
            "  _np_quint8 = np.dtype([(\"quint8\", np.uint8, 1)])\n",
            "/usr/local/lib/python3.7/dist-packages/tensorflow/python/framework/dtypes.py:518: FutureWarning: Passing (type, 1) or '1type' as a synonym of type is deprecated; in a future version of numpy, it will be understood as (type, (1,)) / '(1,)type'.\n",
            "  _np_qint16 = np.dtype([(\"qint16\", np.int16, 1)])\n",
            "/usr/local/lib/python3.7/dist-packages/tensorflow/python/framework/dtypes.py:519: FutureWarning: Passing (type, 1) or '1type' as a synonym of type is deprecated; in a future version of numpy, it will be understood as (type, (1,)) / '(1,)type'.\n",
            "  _np_quint16 = np.dtype([(\"quint16\", np.uint16, 1)])\n",
            "/usr/local/lib/python3.7/dist-packages/tensorflow/python/framework/dtypes.py:520: FutureWarning: Passing (type, 1) or '1type' as a synonym of type is deprecated; in a future version of numpy, it will be understood as (type, (1,)) / '(1,)type'.\n",
            "  _np_qint32 = np.dtype([(\"qint32\", np.int32, 1)])\n",
            "/usr/local/lib/python3.7/dist-packages/tensorflow/python/framework/dtypes.py:525: FutureWarning: Passing (type, 1) or '1type' as a synonym of type is deprecated; in a future version of numpy, it will be understood as (type, (1,)) / '(1,)type'.\n",
            "  np_resource = np.dtype([(\"resource\", np.ubyte, 1)])\n"
          ],
          "name": "stderr"
        },
        {
          "output_type": "stream",
          "text": [
            "1.14.0\n",
            "Wersja Numpy : 1.19.5\n",
            "Interpreter Pythona i wersja: 3.7.10 (default, May  3 2021, 02:48:31) \n",
            "[GCC 7.5.0]\n"
          ],
          "name": "stdout"
        },
        {
          "output_type": "stream",
          "text": [
            "/usr/local/lib/python3.7/dist-packages/tensorboard/compat/tensorflow_stub/dtypes.py:541: FutureWarning: Passing (type, 1) or '1type' as a synonym of type is deprecated; in a future version of numpy, it will be understood as (type, (1,)) / '(1,)type'.\n",
            "  _np_qint8 = np.dtype([(\"qint8\", np.int8, 1)])\n",
            "/usr/local/lib/python3.7/dist-packages/tensorboard/compat/tensorflow_stub/dtypes.py:542: FutureWarning: Passing (type, 1) or '1type' as a synonym of type is deprecated; in a future version of numpy, it will be understood as (type, (1,)) / '(1,)type'.\n",
            "  _np_quint8 = np.dtype([(\"quint8\", np.uint8, 1)])\n",
            "/usr/local/lib/python3.7/dist-packages/tensorboard/compat/tensorflow_stub/dtypes.py:543: FutureWarning: Passing (type, 1) or '1type' as a synonym of type is deprecated; in a future version of numpy, it will be understood as (type, (1,)) / '(1,)type'.\n",
            "  _np_qint16 = np.dtype([(\"qint16\", np.int16, 1)])\n",
            "/usr/local/lib/python3.7/dist-packages/tensorboard/compat/tensorflow_stub/dtypes.py:544: FutureWarning: Passing (type, 1) or '1type' as a synonym of type is deprecated; in a future version of numpy, it will be understood as (type, (1,)) / '(1,)type'.\n",
            "  _np_quint16 = np.dtype([(\"quint16\", np.uint16, 1)])\n",
            "/usr/local/lib/python3.7/dist-packages/tensorboard/compat/tensorflow_stub/dtypes.py:545: FutureWarning: Passing (type, 1) or '1type' as a synonym of type is deprecated; in a future version of numpy, it will be understood as (type, (1,)) / '(1,)type'.\n",
            "  _np_qint32 = np.dtype([(\"qint32\", np.int32, 1)])\n",
            "/usr/local/lib/python3.7/dist-packages/tensorboard/compat/tensorflow_stub/dtypes.py:550: FutureWarning: Passing (type, 1) or '1type' as a synonym of type is deprecated; in a future version of numpy, it will be understood as (type, (1,)) / '(1,)type'.\n",
            "  np_resource = np.dtype([(\"resource\", np.ubyte, 1)])\n"
          ],
          "name": "stderr"
        }
      ]
    },
    {
      "cell_type": "markdown",
      "metadata": {
        "id": "zLnxWy4d1lgx"
      },
      "source": [
        "# Sesja TensorFlow "
      ]
    },
    {
      "cell_type": "code",
      "metadata": {
        "id": "njQHJibV1lgy"
      },
      "source": [
        "#sesje tylko w tf1\n",
        "tfs = tf.Session()"
      ],
      "execution_count": null,
      "outputs": []
    },
    {
      "cell_type": "code",
      "metadata": {
        "colab": {
          "base_uri": "https://localhost:8080/"
        },
        "id": "VwNQWEpK1lgy",
        "outputId": "0aafd84d-5130-4bea-b9a5-07014711a39f"
      },
      "source": [
        "hello = tf.constant(\"Witamy na zajeciach z tensorflow!!\")\n",
        "print(tfs.run(hello))"
      ],
      "execution_count": null,
      "outputs": [
        {
          "output_type": "stream",
          "text": [
            "b'Witamy na zajeciach z tensorflow!!'\n"
          ],
          "name": "stdout"
        }
      ]
    },
    {
      "cell_type": "markdown",
      "metadata": {
        "id": "FjJN5prd1lgy"
      },
      "source": [
        "# Stałe"
      ]
    },
    {
      "cell_type": "code",
      "metadata": {
        "colab": {
          "base_uri": "https://localhost:8080/"
        },
        "id": "FdJ3c9t_1lgz",
        "outputId": "b523b310-2072-489a-f4c3-3a771546b6cd"
      },
      "source": [
        "const1 = tf.constant(34, name='x')\n",
        "const2 = tf.constant(59.0, name='y')\n",
        "const3 = tf.constant(32.0, dtype=tf.float64, name='z')\n",
        "print('const1 (x): ', const1)\n",
        "print('const2 (y): ', const2)\n",
        "print('const3 (z): ', const3)"
      ],
      "execution_count": null,
      "outputs": [
        {
          "output_type": "stream",
          "text": [
            "const1 (x):  Tensor(\"x:0\", shape=(), dtype=int32)\n",
            "const2 (y):  Tensor(\"y:0\", shape=(), dtype=float32)\n",
            "const3 (z):  Tensor(\"z:0\", shape=(), dtype=float64)\n"
          ],
          "name": "stdout"
        }
      ]
    },
    {
      "cell_type": "code",
      "metadata": {
        "colab": {
          "base_uri": "https://localhost:8080/"
        },
        "id": "4iSMmsCB1lgz",
        "outputId": "e2da14c1-842f-4a6e-ad43-0cb0faa133da"
      },
      "source": [
        "#Aby wyswietlić wynik  w postaci liczbowej a nie w postaci obiektu tensorflow nalezy używać tfs.run - korzystamy wtedy z konkretnej sesji tensorflow\n",
        "print('run([const1,const2,const3]) : ', tfs.run([const1, const2, const3]))"
      ],
      "execution_count": null,
      "outputs": [
        {
          "output_type": "stream",
          "text": [
            "run([const1,const2,const3]) :  [34, 59.0, 32.0]\n"
          ],
          "name": "stdout"
        }
      ]
    },
    {
      "cell_type": "code",
      "metadata": {
        "colab": {
          "base_uri": "https://localhost:8080/"
        },
        "id": "087oGlKhlfay",
        "outputId": "a5579bba-081a-46d0-db77-5892a29084e7"
      },
      "source": [
        "#deklaracja zer\n",
        "a = tf.zeros(2)\n",
        "tfs.run(a)"
      ],
      "execution_count": null,
      "outputs": [
        {
          "output_type": "execute_result",
          "data": {
            "text/plain": [
              "array([0., 0.], dtype=float32)"
            ]
          },
          "metadata": {
            "tags": []
          },
          "execution_count": 6
        }
      ]
    },
    {
      "cell_type": "code",
      "metadata": {
        "colab": {
          "base_uri": "https://localhost:8080/"
        },
        "id": "mBbDyLxqLYRS",
        "outputId": "bd974548-00a5-4ea5-f6df-4ae92256fc4b"
      },
      "source": [
        "#deklaracja jedynek\n",
        "b = tf.ones(4)\n",
        "tfs.run(b)"
      ],
      "execution_count": null,
      "outputs": [
        {
          "output_type": "execute_result",
          "data": {
            "text/plain": [
              "array([1., 1., 1., 1.], dtype=float32)"
            ]
          },
          "metadata": {
            "tags": []
          },
          "execution_count": 8
        }
      ]
    },
    {
      "cell_type": "code",
      "metadata": {
        "id": "Judq3GU9MaAA"
      },
      "source": [
        "#Zadania\n",
        "#1. Stworz 6 stalych kazda innego typu (int, float).\n",
        "#2* Stworz tensor 2D skladajacy sie ze stałych ktore są tylko 5-kami"
      ],
      "execution_count": null,
      "outputs": []
    },
    {
      "cell_type": "code",
      "metadata": {
        "colab": {
          "base_uri": "https://localhost:8080/"
        },
        "id": "nTmH-iV4nc0o",
        "outputId": "897dc44b-a329-4e4d-cbcb-bc15284cf97b"
      },
      "source": [
        "a=tf.random_normal((10,10), mean=0, stddev=1)\n",
        "tfs.run(a)"
      ],
      "execution_count": null,
      "outputs": [
        {
          "output_type": "execute_result",
          "data": {
            "text/plain": [
              "array([[-0.10223877,  1.3842531 ,  0.5269022 , -1.0756168 , -0.5146406 ,\n",
              "        -0.3104371 ,  0.46688405,  0.27272692, -0.50712264, -0.8856756 ],\n",
              "       [ 0.5205834 , -0.18120657, -1.0938598 , -0.01137738, -1.4780076 ,\n",
              "        -0.6715659 , -0.3574379 ,  0.4236595 ,  0.13869329,  0.4188256 ],\n",
              "       [-0.03807225,  0.63436455,  0.16781159, -2.6208034 , -0.00967516,\n",
              "        -1.0312852 ,  0.77811146,  0.42835227,  0.3216789 ,  0.53164345],\n",
              "       [-0.76785207, -0.69724804,  0.28274772,  1.0907676 , -1.4323065 ,\n",
              "         0.75436467,  0.38340288, -1.357182  ,  1.9016689 , -0.48499444],\n",
              "       [-0.16062067, -1.5728891 ,  0.04403835, -0.2762578 , -1.1845266 ,\n",
              "         0.06508821, -1.0126586 ,  0.1171057 ,  0.19370857,  0.2669653 ],\n",
              "       [-0.40106958,  0.75728685,  0.28979835, -0.293418  ,  0.39237243,\n",
              "        -0.86068773, -1.3868742 ,  0.09064666,  2.0622637 , -0.06395718],\n",
              "       [-0.091501  ,  1.1955789 , -0.67597604, -0.45298567, -0.10434926,\n",
              "        -0.99653786,  0.28382203,  0.86408883, -0.58387774,  1.2535912 ],\n",
              "       [ 0.38184717, -0.7157572 , -0.48456988, -1.0623475 ,  1.1027205 ,\n",
              "        -0.69706863,  1.1259065 ,  1.6727967 ,  0.25117078, -1.0249747 ],\n",
              "       [-0.25431332, -0.02505326, -0.66675586, -0.26027593,  0.38946214,\n",
              "        -0.71306825, -1.285446  , -0.46716025,  1.4669554 ,  0.01041757],\n",
              "       [-0.8416397 ,  1.2247454 , -2.1138415 ,  0.7726484 ,  0.6031495 ,\n",
              "        -1.1745926 ,  0.25474143,  0.74490345, -1.7252418 , -1.6821556 ]],\n",
              "      dtype=float32)"
            ]
          },
          "metadata": {
            "tags": []
          },
          "execution_count": 96
        }
      ]
    },
    {
      "cell_type": "markdown",
      "metadata": {
        "id": "0yB0H0Ai1lgz"
      },
      "source": [
        "# Operacje"
      ]
    },
    {
      "cell_type": "code",
      "metadata": {
        "colab": {
          "base_uri": "https://localhost:8080/"
        },
        "id": "uZ3NFEqN1lg0",
        "outputId": "6761b0f3-0da7-407f-b812-edd760863f40"
      },
      "source": [
        "op1 = tf.add(const2, const3)\n",
        "op2 = tf.multiply(const2, const3)\n",
        "print('op1 : ', op1)\n",
        "print('op2 : ', op2)"
      ],
      "execution_count": null,
      "outputs": [
        {
          "output_type": "stream",
          "text": [
            "op1 :  Tensor(\"Add_2:0\", shape=(), dtype=float32)\n",
            "op2 :  Tensor(\"Mul_2:0\", shape=(), dtype=float32)\n"
          ],
          "name": "stdout"
        }
      ]
    },
    {
      "cell_type": "code",
      "metadata": {
        "colab": {
          "base_uri": "https://localhost:8080/"
        },
        "id": "PipuZDue1lg0",
        "outputId": "919ada68-70b2-4f01-f803-ca5ecf7a60ef"
      },
      "source": [
        "print('run(op1) : ', tfs.run(op1))\n",
        "print('run(op2) : ', tfs.run(op2))"
      ],
      "execution_count": null,
      "outputs": [
        {
          "output_type": "stream",
          "text": [
            "run(op1) :  91.0\n",
            "run(op2) :  1888.0\n"
          ],
          "name": "stdout"
        }
      ]
    },
    {
      "cell_type": "markdown",
      "metadata": {
        "id": "SZ0Hn-_f1lg0"
      },
      "source": [
        "# Węzły zastępcze"
      ]
    },
    {
      "cell_type": "code",
      "metadata": {
        "colab": {
          "base_uri": "https://localhost:8080/"
        },
        "id": "XiW95Jeo1lg0",
        "outputId": "1edbf15f-5ae8-4d56-b1e1-18aa5bb71c2e"
      },
      "source": [
        "p1 = tf.placeholder(tf.float32)\n",
        "p2 = tf.placeholder(tf.float32)\n",
        "print('p1 : ', p1)\n",
        "print('p2 : ', p2)"
      ],
      "execution_count": null,
      "outputs": [
        {
          "output_type": "stream",
          "text": [
            "p1 :  Tensor(\"Placeholder:0\", dtype=float32)\n",
            "p2 :  Tensor(\"Placeholder_1:0\", dtype=float32)\n"
          ],
          "name": "stdout"
        }
      ]
    },
    {
      "cell_type": "code",
      "metadata": {
        "id": "drpxd0AM1lg1"
      },
      "source": [
        "mult_op = p1 * p2  # skrót dla tf.multiply(p1, p2)"
      ],
      "execution_count": null,
      "outputs": []
    },
    {
      "cell_type": "code",
      "metadata": {
        "colab": {
          "base_uri": "https://localhost:8080/"
        },
        "id": "pnS7zJH11lg1",
        "outputId": "71ca6227-d690-4304-a833-d740e07d3968"
      },
      "source": [
        "print('run(mult_op,{p1:13.4, p2:61.7}) : ',tfs.run(mult_op,{p1:13.4, p2:61.7}))"
      ],
      "execution_count": null,
      "outputs": [
        {
          "output_type": "stream",
          "text": [
            "run(mult_op,{p1:13.4, p2:61.7}) :  826.77997\n"
          ],
          "name": "stdout"
        }
      ]
    },
    {
      "cell_type": "code",
      "metadata": {
        "colab": {
          "base_uri": "https://localhost:8080/"
        },
        "id": "mjM8_9Uz1lg2",
        "outputId": "97a648e2-24cc-4b0a-e7ae-1e8946e55bf1"
      },
      "source": [
        "feed_dict={p1: 15.4, p2: 19.5}\n",
        "print('run(mult_op,feed_dict = {p1:15.4, p2:19.5}) : ',\n",
        "      tfs.run(mult_op, feed_dict=feed_dict))"
      ],
      "execution_count": null,
      "outputs": [
        {
          "output_type": "stream",
          "text": [
            "run(mult_op,feed_dict = {p1:15.4, p2:19.5}) :  300.3\n"
          ],
          "name": "stdout"
        }
      ]
    },
    {
      "cell_type": "code",
      "metadata": {
        "colab": {
          "base_uri": "https://localhost:8080/"
        },
        "id": "wQ5f0eVj1lg3",
        "outputId": "42f025ee-6b9b-4c59-f56f-0e77636761e8"
      },
      "source": [
        "feed_dict={p1: [2.0, 3.0, 4.0], p2: [3.0, 4.0, 5.0]}\n",
        "print('run(mult_op,feed_dict={p1:[2.0,3.0,4.0], p2:[3.0,4.0,5.0]}):',\n",
        "      tfs.run(mult_op, feed_dict=feed_dict))"
      ],
      "execution_count": null,
      "outputs": [
        {
          "output_type": "stream",
          "text": [
            "run(mult_op,feed_dict={p1:[2.0,3.0,4.0], p2:[3.0,4.0,5.0]}): [ 6. 12. 20.]\n"
          ],
          "name": "stdout"
        }
      ]
    },
    {
      "cell_type": "code",
      "metadata": {
        "id": "jrj6Aws3RXpv"
      },
      "source": [
        "#Stworzyć feed dict w formie klucz : 10 elementowy wektor, 2-3 wektory. Przemnożyć każdy element przez każdy. \n",
        "#Zsumować ich wartości"
      ],
      "execution_count": null,
      "outputs": []
    },
    {
      "cell_type": "markdown",
      "metadata": {
        "id": "UnS5wzIa7uRj"
      },
      "source": [
        ""
      ]
    },
    {
      "cell_type": "markdown",
      "metadata": {
        "id": "9etl9NCV1lg4"
      },
      "source": [
        "## Tensory zerowego rzędu (skalary)"
      ]
    },
    {
      "cell_type": "code",
      "metadata": {
        "colab": {
          "base_uri": "https://localhost:8080/"
        },
        "id": "x3t7yhYw1lg4",
        "outputId": "c352ba51-e0fb-4173-820e-7e2c6ed6fc74"
      },
      "source": [
        "tf_t = tf.convert_to_tensor(5, dtype=tf.int32)\n",
        "\n",
        "print('tf_t : ', tf_t)\n",
        "print('run(tf_t) : \\n', tfs.run(tf_t))"
      ],
      "execution_count": null,
      "outputs": [
        {
          "output_type": "stream",
          "text": [
            "tf_t :  Tensor(\"Const_6:0\", shape=(), dtype=int32)\n",
            "run(tf_t) : \n",
            " 5\n"
          ],
          "name": "stdout"
        }
      ]
    },
    {
      "cell_type": "markdown",
      "metadata": {
        "id": "g4LMCUhV1lg5"
      },
      "source": [
        "## Tensory 1. rzędu (wektory)"
      ]
    },
    {
      "cell_type": "code",
      "metadata": {
        "scrolled": true,
        "colab": {
          "base_uri": "https://localhost:8080/"
        },
        "id": "gGCoGPHy1lg5",
        "outputId": "0c136eb7-71e5-4e98-a06f-0791a86e227e"
      },
      "source": [
        "a1dim = np.array([1, 2, 3, 4, 5.99])\n",
        "print('Kształt a1dim : ', a1dim.shape)\n",
        "\n",
        "tf_t = tf.convert_to_tensor(a1dim)\n",
        "\n",
        "print('tf_t : ', tf_t)\n",
        "print('tf_t[0] : ', tf_t[0])\n",
        "print('tf_t[2] : ', tfs.run(tf_t[2]))\n",
        "#print('run(tf_t) : \\n', tfs.run(tf_t))"
      ],
      "execution_count": null,
      "outputs": [
        {
          "output_type": "stream",
          "text": [
            "Kształt a1dim :  (5,)\n",
            "tf_t :  Tensor(\"Const_2:0\", shape=(5,), dtype=float64)\n",
            "tf_t[0] :  Tensor(\"strided_slice:0\", shape=(), dtype=float64)\n",
            "tf_t[2] :  3.0\n"
          ],
          "name": "stdout"
        }
      ]
    },
    {
      "cell_type": "markdown",
      "metadata": {
        "id": "l7n3U-Ia1lg6"
      },
      "source": [
        "## Tensory 2. rzędu (macierze)"
      ]
    },
    {
      "cell_type": "code",
      "metadata": {
        "colab": {
          "base_uri": "https://localhost:8080/"
        },
        "id": "mvBk8iCh1lg6",
        "outputId": "d8b60fa7-a1b7-40e5-e5de-86e6901b31f6"
      },
      "source": [
        "tfs = tf.Session()\n",
        "a2dim = np.array([(1, 2, 3, 4, 5.99),\n",
        "                  (2, 3, 4, 5, 6.99),\n",
        "                  (3, 4, 5, 6, 7.99)\n",
        "                  ])\n",
        "print('Kształt a2dim : ', a2dim.shape)\n",
        "\n",
        "tf_t = tf.convert_to_tensor(a2dim, dtype=tf.float64)\n",
        "\n",
        "print('tf_t : ', tf_t)\n",
        "print('tf_t[0][0] : ', tf_t[0][0])\n",
        "print('tf_t[1][2] : ', tf_t[1][2])\n",
        "print('run(tf_t) : \\n', tfs.run(tf_t[2][4]))"
      ],
      "execution_count": null,
      "outputs": [
        {
          "output_type": "stream",
          "text": [
            "Kształt a2dim :  (3, 5)\n",
            "tf_t :  Tensor(\"Const_9:0\", shape=(3, 5), dtype=float64)\n",
            "tf_t[0][0] :  Tensor(\"strided_slice_19:0\", shape=(), dtype=float64)\n",
            "tf_t[1][2] :  Tensor(\"strided_slice_21:0\", shape=(), dtype=float64)\n",
            "run(tf_t) : \n",
            " 7.99\n"
          ],
          "name": "stdout"
        }
      ]
    },
    {
      "cell_type": "markdown",
      "metadata": {
        "id": "Ws6ShFWM1lg7"
      },
      "source": [
        "## Tensory 3. rzędu"
      ]
    },
    {
      "cell_type": "code",
      "metadata": {
        "colab": {
          "base_uri": "https://localhost:8080/"
        },
        "id": "tQDQTXDp1lg7",
        "outputId": "3fde1cc1-9840-45cc-ce7b-7f158ca9e49e"
      },
      "source": [
        "a3dim = np.array([[[1, 2],\n",
        "                   [3, 4]\n",
        "                   ],\n",
        "                  [[5, 6],\n",
        "                   [7, 8]\n",
        "                   ]\n",
        "                  ])\n",
        "print('Kształt a3dim : ', a3dim.shape)\n",
        "\n",
        "tf_t = tf.convert_to_tensor(a3dim, dtype=tf.float64)\n",
        "\n",
        "print('tf_t : ', tf_t)\n",
        "print('tf_t[0][0][0] : ', tf_t[0][0][0])\n",
        "print('tf_t[1][1][1] : ', tf_t[1][1][1])\n",
        "print('run(tf_t) : \\n', tfs.run(tf_t[1][1][1]))\n",
        "print('run(tf_t) : \\n', tfs.run(tf_t))"
      ],
      "execution_count": null,
      "outputs": [
        {
          "output_type": "stream",
          "text": [
            "Kształt a3dim :  (2, 2, 2)\n",
            "tf_t :  Tensor(\"Const_9:0\", shape=(2, 2, 2), dtype=float64)\n",
            "tf_t[0][0][0] :  Tensor(\"strided_slice_13:0\", shape=(), dtype=float64)\n",
            "tf_t[1][1][1] :  Tensor(\"strided_slice_16:0\", shape=(), dtype=float64)\n",
            "run(tf_t) : \n",
            " 8.0\n",
            "run(tf_t) : \n",
            " [[[1. 2.]\n",
            "  [3. 4.]]\n",
            "\n",
            " [[5. 6.]\n",
            "  [7. 8.]]]\n"
          ],
          "name": "stdout"
        }
      ]
    },
    {
      "cell_type": "code",
      "metadata": {
        "colab": {
          "base_uri": "https://localhost:8080/"
        },
        "id": "8u0V4jGFw6d-",
        "outputId": "f07edfb1-a47e-4bc0-d142-d215184daba3"
      },
      "source": [
        "a3dim = np.array([[[1, 2],\n",
        "                   [3, 4]\n",
        "                   ],\n",
        "                  [[5, 6],\n",
        "                   [7, 8]\n",
        "                   ]\n",
        "                  ])\n",
        "print('Kształt a3dim : ', a3dim.shape)\n",
        "\n",
        "tf_t = tf.convert_to_tensor(a3dim, dtype=tf.float64)\n",
        "\n",
        "print('tf_t : ', tf_t)\n",
        "print('tf_t[0][0][0] : ', tf_t[0][0][0])\n",
        "print('tf_t[1][1][1] : ', tf_t[1][1][1])\n",
        "print('run(tf_t) : \\n', tfs.run(tf_t))"
      ],
      "execution_count": null,
      "outputs": [
        {
          "output_type": "stream",
          "text": [
            "Kształt a3dim :  (2, 2, 2)\n",
            "tf_t :  Tensor(\"Const_10:0\", shape=(2, 2, 2), dtype=float64)\n",
            "tf_t[0][0][0] :  Tensor(\"strided_slice_22:0\", shape=(), dtype=float64)\n",
            "tf_t[1][1][1] :  Tensor(\"strided_slice_25:0\", shape=(), dtype=float64)\n",
            "run(tf_t) : \n",
            " [[[1. 2.]\n",
            "  [3. 4.]]\n",
            "\n",
            " [[5. 6.]\n",
            "  [7. 8.]]]\n"
          ],
          "name": "stdout"
        }
      ]
    },
    {
      "cell_type": "markdown",
      "metadata": {
        "id": "AAqjEPfS1lg8"
      },
      "source": [
        "# Zmienne"
      ]
    },
    {
      "cell_type": "code",
      "metadata": {
        "scrolled": true,
        "colab": {
          "base_uri": "https://localhost:8080/"
        },
        "id": "6e0uCZqZ1lg8",
        "outputId": "7ec04a31-29d4-40d9-87e3-993c216b4740"
      },
      "source": [
        "# Model liniowy y = w * x + b\n",
        "# Definiowanie parametrów modelu ale też definiowanie zmiennej\n",
        "w = tf.Variable([.3], tf.float32)\n",
        "b = tf.Variable([-.3], tf.float32)\n",
        "# Definiowanie wejścia i wyjścia modelu\n",
        "x = tf.placeholder(tf.float32)\n",
        "y = w * x + b\n",
        "\n",
        "print('w:', w)\n",
        "print('x:', x)\n",
        "print('b:', b)\n",
        "print('y:', y)"
      ],
      "execution_count": null,
      "outputs": [
        {
          "output_type": "stream",
          "text": [
            "w: <tf.Variable 'Variable:0' shape=(1,) dtype=float32_ref>\n",
            "x: Tensor(\"Placeholder_2:0\", dtype=float32)\n",
            "b: <tf.Variable 'Variable_1:0' shape=(1,) dtype=float32_ref>\n",
            "y: Tensor(\"add:0\", dtype=float32)\n"
          ],
          "name": "stdout"
        }
      ]
    },
    {
      "cell_type": "code",
      "metadata": {
        "scrolled": true,
        "colab": {
          "base_uri": "https://localhost:8080/"
        },
        "id": "Gzq1o7MI1lg8",
        "outputId": "bdf92513-70e5-48e8-9c79-78ab21273c8d"
      },
      "source": [
        "# Inicjacja i wydruk zmiennej y\n",
        "tfs.run(tf.global_variables_initializer())\n",
        "print('run(y,{x:[1,2,3,4]}) : ', tfs.run(y, {x: [1, 2, 3, 4]}))"
      ],
      "execution_count": null,
      "outputs": [
        {
          "output_type": "stream",
          "text": [
            "run(y,{x:[1,2,3,4]}) :  [0.         0.3        0.6        0.90000004]\n"
          ],
          "name": "stdout"
        }
      ]
    },
    {
      "cell_type": "code",
      "metadata": {
        "colab": {
          "base_uri": "https://localhost:8080/"
        },
        "id": "gDafQHJu8uK7",
        "outputId": "41ab98da-3c15-4ceb-d2f5-07f70174752c"
      },
      "source": [
        "#var1 = tf.Variable(3.,dtype=tf.float64, name=\"var1\")\n",
        "var1 = tf.get_variable(initializer=tf.constant_initializer(3.), dtype=tf.float64, name=\"var1\", shape=())\n",
        "current_scope = tf.contrib.framework.get_name_scope()\n",
        "print(var1.name)\n",
        "with tf.variable_scope(current_scope, reuse=True):\n",
        "    var2 = tf.get_variable(\"var1\",[],dtype=tf.float64)\n",
        "    print(var2.name)"
      ],
      "execution_count": null,
      "outputs": [
        {
          "output_type": "stream",
          "text": [
            "var1:0\n",
            "var1:0\n"
          ],
          "name": "stdout"
        }
      ]
    },
    {
      "cell_type": "code",
      "metadata": {
        "id": "sqMRlt-J92mc"
      },
      "source": [
        "#Tf reshape\n",
        "# simulate batch of image patches\n",
        "x = np.arange(3 * 2 * 8).reshape(3, 2, 4, 2, 1)\n",
        "\n",
        "# reshape/ concat image patches along axis 3\n",
        "x_new = tf.reshape(x, (3, 4, 4, 1))"
      ],
      "execution_count": null,
      "outputs": []
    },
    {
      "cell_type": "code",
      "metadata": {
        "colab": {
          "base_uri": "https://localhost:8080/"
        },
        "id": "rod9KHumqQ8N",
        "outputId": "9b59b0ed-0c9c-4acd-9d22-158879753221"
      },
      "source": [
        "x_new"
      ],
      "execution_count": null,
      "outputs": [
        {
          "output_type": "execute_result",
          "data": {
            "text/plain": [
              "<tf.Tensor 'Reshape:0' shape=(3, 4, 4, 1) dtype=int64>"
            ]
          },
          "metadata": {
            "tags": []
          },
          "execution_count": 20
        }
      ]
    },
    {
      "cell_type": "code",
      "metadata": {
        "colab": {
          "base_uri": "https://localhost:8080/"
        },
        "id": "O9UxD79R96Z6",
        "outputId": "711d92af-96b0-4dcf-a647-1a2819435372"
      },
      "source": [
        "print(x_new[0, :, :, 0])"
      ],
      "execution_count": null,
      "outputs": [
        {
          "output_type": "stream",
          "text": [
            "Tensor(\"strided_slice_2:0\", shape=(4, 4), dtype=int64)\n"
          ],
          "name": "stdout"
        }
      ]
    },
    {
      "cell_type": "code",
      "metadata": {
        "id": "B54PZLPcaKqj"
      },
      "source": [
        "#Stworzyli sobie tensor2d o wymiarach 12x6 wyciagneli element \n",
        "#a. 4 od konca w ostatnim wierszu  \n",
        "#b. drugi od początku w 3 wierszu \n",
        "#c. element środkowy\n",
        "#Uzupełnić macierz samymi 10 z użyciem funkcji bibliotecznych i następnie zsumować jej elementy\n",
        "#Stworzyć 3 zmienne przyjmujące jakąś wartość"
      ],
      "execution_count": null,
      "outputs": []
    },
    {
      "cell_type": "markdown",
      "metadata": {
        "id": "3QrWbF-r1lg9"
      },
      "source": [
        "# Tworzenie tensorów z funkcji bibliotecznych"
      ]
    },
    {
      "cell_type": "code",
      "metadata": {
        "colab": {
          "base_uri": "https://localhost:8080/"
        },
        "id": "FvNjmQWB1lg9",
        "outputId": "b106dc08-9823-4c17-afd8-98f09555cfaf"
      },
      "source": [
        "a = tf.ones((100,))\n",
        "print(tfs.run(a))"
      ],
      "execution_count": null,
      "outputs": [
        {
          "output_type": "stream",
          "text": [
            "[1. 1. 1. 1. 1. 1. 1. 1. 1. 1. 1. 1. 1. 1. 1. 1. 1. 1. 1. 1. 1. 1. 1. 1.\n",
            " 1. 1. 1. 1. 1. 1. 1. 1. 1. 1. 1. 1. 1. 1. 1. 1. 1. 1. 1. 1. 1. 1. 1. 1.\n",
            " 1. 1. 1. 1. 1. 1. 1. 1. 1. 1. 1. 1. 1. 1. 1. 1. 1. 1. 1. 1. 1. 1. 1. 1.\n",
            " 1. 1. 1. 1. 1. 1. 1. 1. 1. 1. 1. 1. 1. 1. 1. 1. 1. 1. 1. 1. 1. 1. 1. 1.\n",
            " 1. 1. 1. 1.]\n"
          ],
          "name": "stdout"
        }
      ]
    },
    {
      "cell_type": "code",
      "metadata": {
        "colab": {
          "base_uri": "https://localhost:8080/"
        },
        "id": "tZvUMwet_AwA",
        "outputId": "812cf834-cdff-4616-d945-5b84ff73e3a5"
      },
      "source": [
        "c = tf.fill((2,2),2.)\n",
        "d = tf.fill((2,2), 7.)\n",
        "e= c*d\n",
        "e.eval"
      ],
      "execution_count": null,
      "outputs": [
        {
          "output_type": "execute_result",
          "data": {
            "text/plain": [
              "<bound method Tensor.eval of <tf.Tensor 'mul_2:0' shape=(2, 2) dtype=float32>>"
            ]
          },
          "metadata": {
            "tags": []
          },
          "execution_count": 22
        }
      ]
    },
    {
      "cell_type": "code",
      "metadata": {
        "colab": {
          "base_uri": "https://localhost:8080/"
        },
        "id": "KlPByp1xAgIK",
        "outputId": "e4bacd22-f5db-4109-98fb-09628d6b9f01"
      },
      "source": [
        "with tf.Session() as sess:\n",
        "    init = tf.global_variables_initializer()\n",
        "    sess.run(init)\n",
        "    print(e.eval())"
      ],
      "execution_count": null,
      "outputs": [
        {
          "output_type": "stream",
          "text": [
            "[[14. 14.]\n",
            " [14. 14.]]\n"
          ],
          "name": "stdout"
        }
      ]
    },
    {
      "cell_type": "markdown",
      "metadata": {
        "id": "X03CELCt1lg9"
      },
      "source": [
        "# Zamknięcie sesji interaktywnej"
      ]
    },
    {
      "cell_type": "code",
      "metadata": {
        "id": "lJlRJvjv1lg9"
      },
      "source": [
        "tfs.close()"
      ],
      "execution_count": null,
      "outputs": []
    },
    {
      "cell_type": "markdown",
      "metadata": {
        "id": "Bj08UTGZ1lg9"
      },
      "source": [
        "# Grafy obliczeniowe"
      ]
    },
    {
      "cell_type": "markdown",
      "metadata": {
        "id": "LksBipPm1lg-"
      },
      "source": [
        "## Budowa i uruchomienie prostego grafu obliczeniowego"
      ]
    },
    {
      "cell_type": "code",
      "metadata": {
        "colab": {
          "base_uri": "https://localhost:8080/"
        },
        "id": "N1ly-Wcn1lg-",
        "outputId": "9927a261-86cf-4cf1-fa41-fe0ae8372f85"
      },
      "source": [
        "# Przyjmujemy model liniowy y = w * x + b\n",
        "# Definiowanie parametrów modelu\n",
        "w = tf.Variable([.3], tf.float32)\n",
        "b = tf.Variable([-.3], tf.float32)\n",
        "# Definiowanie wejścia i wyjścia modelu\n",
        "x = tf.placeholder(tf.float32)\n",
        "y = w * x + b\n",
        "output = 0\n",
        "\n",
        "with tf.Session() as tfs:\n",
        "    # Inicjacja i wydruk zmiennej y\n",
        "    tf.global_variables_initializer().run()\n",
        "    output = tfs.run(y, {x: [1, 2, 3, 4]})\n",
        "print('wyjście : ', output)"
      ],
      "execution_count": null,
      "outputs": [
        {
          "output_type": "stream",
          "text": [
            "wyjście :  [0.         0.3        0.6        0.90000004]\n"
          ],
          "name": "stdout"
        }
      ]
    },
    {
      "cell_type": "markdown",
      "metadata": {
        "id": "ESiQCG561lg_"
      },
      "source": [
        "### Rozmieszczanie na CPU"
      ]
    },
    {
      "cell_type": "code",
      "metadata": {
        "colab": {
          "base_uri": "https://localhost:8080/"
        },
        "id": "MZNdk8jS1lg_",
        "outputId": "af4e8fb4-bd50-4979-c73f-f041f28b5229"
      },
      "source": [
        "tf.reset_default_graph()\n",
        "\n",
        "with tf.device('/device:CPU:0'):\n",
        "    # Definiowanie parametrów modelu\n",
        "    w = tf.get_variable(name='w', initializer=[.3], dtype=tf.float32)\n",
        "    b = tf.get_variable(name='b', initializer=[-.3], dtype=tf.float32)\n",
        "    # Definiowanie wejścia i wyjścia modelu\n",
        "    x = tf.placeholder(name='x', dtype=tf.float32)\n",
        "    y = w * x + b\n",
        "\n",
        "config = tf.ConfigProto()\n",
        "config.log_device_placement = True\n",
        "\n",
        "with tf.Session(config=config) as tfs:\n",
        "    # Inicjacja i wydruk zmiennej y\n",
        "    tfs.run(tf.global_variables_initializer())\n",
        "    print('wyjście', tfs.run(y, {x: [1, 2, 3, 4]}))"
      ],
      "execution_count": null,
      "outputs": [
        {
          "output_type": "stream",
          "text": [
            "wyjście [0.         0.3        0.6        0.90000004]\n"
          ],
          "name": "stdout"
        }
      ]
    },
    {
      "cell_type": "markdown",
      "metadata": {
        "id": "yvFPJaln1lhA"
      },
      "source": [
        "## Wykonywanie grafu g jako domyślnego"
      ]
    },
    {
      "cell_type": "code",
      "metadata": {
        "colab": {
          "base_uri": "https://localhost:8080/"
        },
        "id": "hKY4xRJY1lhA",
        "outputId": "bffe3e75-9a5b-4ff6-adca-c8c5f782635a"
      },
      "source": [
        "g = tf.Graph()\n",
        "output = 0\n",
        "\n",
        "# Przyjmujemy model liniowy y = w * x + b\n",
        "\n",
        "with g.as_default():\n",
        "    # Definiowanie parametrów modelu\n",
        "    w = tf.Variable([.3], tf.float32)\n",
        "    b = tf.Variable([-.3], tf.float32)\n",
        "    # Definiowanie wejścia i wyjścia modelu\n",
        "    x = tf.placeholder(tf.float32)\n",
        "    y = w * x + b\n",
        "\n",
        "with tf.Session(graph=g) as tfs:\n",
        "    # Inicjacja i wydruk zmiennej y\n",
        "    tf.global_variables_initializer().run()\n",
        "    output = tfs.run(y, {x: [1, 2, 3, 4]})\n",
        "\n",
        "print('wyjście : ', output)"
      ],
      "execution_count": null,
      "outputs": [
        {
          "output_type": "stream",
          "text": [
            "wyjście :  [0.         0.3        0.6        0.90000004]\n"
          ],
          "name": "stdout"
        }
      ]
    },
    {
      "cell_type": "markdown",
      "metadata": {
        "id": "sazMTrFj1lhA"
      },
      "source": [
        "# Regresja logistyczna z TensorFlow"
      ]
    },
    {
      "cell_type": "code",
      "metadata": {
        "colab": {
          "base_uri": "https://localhost:8080/"
        },
        "id": "4afdd1_31lhB",
        "outputId": "68cd14ac-a068-445a-ec4a-0cfd086c7e97"
      },
      "source": [
        "import numpy as np\n",
        "import tensorflow as tf\n",
        "import matplotlib.pyplot as plt\n",
        "from tensorflow.examples.tutorials.mnist import input_data\n",
        "print (\"PACKAGES LOADED\")"
      ],
      "execution_count": null,
      "outputs": [
        {
          "output_type": "stream",
          "text": [
            "PACKAGES LOADED\n"
          ],
          "name": "stdout"
        }
      ]
    },
    {
      "cell_type": "code",
      "metadata": {
        "colab": {
          "base_uri": "https://localhost:8080/"
        },
        "id": "s3KD3vZC6ygs",
        "outputId": "916131d6-873a-4817-f8c6-6bcc11b565b0"
      },
      "source": [
        "mnist      = input_data.read_data_sets('data/', one_hot=True)\n",
        "trainimg   = mnist.train.images\n",
        "trainlabel = mnist.train.labels\n",
        "testimg    = mnist.test.images\n",
        "testlabel  = mnist.test.labels\n",
        "print (\"MNIST loaded\")"
      ],
      "execution_count": null,
      "outputs": [
        {
          "output_type": "stream",
          "text": [
            "WARNING:tensorflow:From <ipython-input-27-e959df2c16f0>:1: read_data_sets (from tensorflow.contrib.learn.python.learn.datasets.mnist) is deprecated and will be removed in a future version.\n",
            "Instructions for updating:\n",
            "Please use alternatives such as official/mnist/dataset.py from tensorflow/models.\n",
            "WARNING:tensorflow:From /usr/local/lib/python3.7/dist-packages/tensorflow/contrib/learn/python/learn/datasets/mnist.py:260: maybe_download (from tensorflow.contrib.learn.python.learn.datasets.base) is deprecated and will be removed in a future version.\n",
            "Instructions for updating:\n",
            "Please write your own downloading logic.\n",
            "WARNING:tensorflow:From /usr/local/lib/python3.7/dist-packages/tensorflow/contrib/learn/python/learn/datasets/base.py:252: _internal_retry.<locals>.wrap.<locals>.wrapped_fn (from tensorflow.contrib.learn.python.learn.datasets.base) is deprecated and will be removed in a future version.\n",
            "Instructions for updating:\n",
            "Please use urllib or similar directly.\n",
            "Successfully downloaded train-images-idx3-ubyte.gz 9912422 bytes.\n",
            "WARNING:tensorflow:From /usr/local/lib/python3.7/dist-packages/tensorflow/contrib/learn/python/learn/datasets/mnist.py:262: extract_images (from tensorflow.contrib.learn.python.learn.datasets.mnist) is deprecated and will be removed in a future version.\n",
            "Instructions for updating:\n",
            "Please use tf.data to implement this functionality.\n",
            "Extracting data/train-images-idx3-ubyte.gz\n",
            "Successfully downloaded train-labels-idx1-ubyte.gz 28881 bytes.\n",
            "WARNING:tensorflow:From /usr/local/lib/python3.7/dist-packages/tensorflow/contrib/learn/python/learn/datasets/mnist.py:267: extract_labels (from tensorflow.contrib.learn.python.learn.datasets.mnist) is deprecated and will be removed in a future version.\n",
            "Instructions for updating:\n",
            "Please use tf.data to implement this functionality.\n",
            "Extracting data/train-labels-idx1-ubyte.gz\n",
            "WARNING:tensorflow:From /usr/local/lib/python3.7/dist-packages/tensorflow/contrib/learn/python/learn/datasets/mnist.py:110: dense_to_one_hot (from tensorflow.contrib.learn.python.learn.datasets.mnist) is deprecated and will be removed in a future version.\n",
            "Instructions for updating:\n",
            "Please use tf.one_hot on tensors.\n",
            "Successfully downloaded t10k-images-idx3-ubyte.gz 1648877 bytes.\n",
            "Extracting data/t10k-images-idx3-ubyte.gz\n",
            "Successfully downloaded t10k-labels-idx1-ubyte.gz 4542 bytes.\n",
            "Extracting data/t10k-labels-idx1-ubyte.gz\n",
            "WARNING:tensorflow:From /usr/local/lib/python3.7/dist-packages/tensorflow/contrib/learn/python/learn/datasets/mnist.py:290: DataSet.__init__ (from tensorflow.contrib.learn.python.learn.datasets.mnist) is deprecated and will be removed in a future version.\n",
            "Instructions for updating:\n",
            "Please use alternatives such as official/mnist/dataset.py from tensorflow/models.\n",
            "MNIST loaded\n"
          ],
          "name": "stdout"
        }
      ]
    },
    {
      "cell_type": "code",
      "metadata": {
        "id": "Ao1yDAGY62Wg"
      },
      "source": [
        "x = tf.placeholder(\"float\", [None, 784]) \n",
        "y = tf.placeholder(\"float\", [None, 10])  # None is for infinite \n",
        "W = tf.Variable(tf.zeros([784, 10]))\n",
        "b = tf.Variable(tf.zeros([10]))\n",
        "# LOGISTIC REGRESSION MODEL\n",
        "actv = tf.nn.softmax(tf.matmul(x, W) + b) \n",
        "# COST FUNCTION\n",
        "cost = tf.reduce_mean(-tf.reduce_sum(y*tf.log(actv), reduction_indices=1)) \n",
        "# OPTIMIZER\n",
        "learning_rate = 0.00001\n",
        "optm = tf.train.GradientDescentOptimizer(learning_rate).minimize(cost)"
      ],
      "execution_count": null,
      "outputs": []
    },
    {
      "cell_type": "code",
      "metadata": {
        "id": "SOqWzJmV66HJ"
      },
      "source": [
        "# PREDICTION\n",
        "pred = tf.equal(tf.argmax(actv, 1), tf.argmax(y, 1))    \n",
        "# ACCURACY\n",
        "accr = tf.reduce_mean(tf.cast(pred, \"float\"))\n",
        "# INITIALIZER\n",
        "init = tf.initialize_all_variables()"
      ],
      "execution_count": null,
      "outputs": []
    },
    {
      "cell_type": "code",
      "metadata": {
        "colab": {
          "base_uri": "https://localhost:8080/"
        },
        "id": "iwAcDrLY6-AL",
        "outputId": "9f896ab1-e5a5-4d7a-f074-e9136b73fef5"
      },
      "source": [
        "training_epochs = 100\n",
        "batch_size      = 100\n",
        "display_step    = 10\n",
        "# SESSION\n",
        "sess = tf.Session()\n",
        "sess.run(init)\n",
        "# MINI-BATCH LEARNING\n",
        "for epoch in range(training_epochs):\n",
        "    avg_cost = 0.\n",
        "    num_batch = int(mnist.train.num_examples/batch_size)\n",
        "    for i in range(num_batch): \n",
        "        batch_xs, batch_ys = mnist.train.next_batch(batch_size)\n",
        "        sess.run(optm, feed_dict={x: batch_xs, y: batch_ys})\n",
        "        feeds = {x: batch_xs, y: batch_ys}\n",
        "        avg_cost += sess.run(cost, feed_dict=feeds)/num_batch\n",
        "    # DISPLAY\n",
        "    if epoch % display_step == 0:\n",
        "        feeds_train = {x: batch_xs, y: batch_ys}\n",
        "        feeds_test = {x: mnist.test.images, y: mnist.test.labels}\n",
        "        train_acc = sess.run(accr, feed_dict=feeds_train)\n",
        "        test_acc = sess.run(accr, feed_dict=feeds_test)\n",
        "        print (\"Epoch: %03d/%03d cost: %.9f train_acc: %.3f test_acc: %.3f\" \n",
        "               % (epoch, training_epochs, avg_cost, train_acc, test_acc))\n",
        "print (\"DONE\")"
      ],
      "execution_count": null,
      "outputs": [
        {
          "output_type": "stream",
          "text": [
            "Epoch: 000/100 cost: 2.299604841 train_acc: 0.620 test_acc: 0.672\n",
            "Epoch: 010/100 cost: 2.241755223 train_acc: 0.630 test_acc: 0.690\n",
            "Epoch: 020/100 cost: 2.186685179 train_acc: 0.740 test_acc: 0.704\n",
            "Epoch: 030/100 cost: 2.134059795 train_acc: 0.740 test_acc: 0.716\n",
            "Epoch: 040/100 cost: 2.083842604 train_acc: 0.650 test_acc: 0.726\n",
            "Epoch: 050/100 cost: 2.035540134 train_acc: 0.740 test_acc: 0.735\n",
            "Epoch: 060/100 cost: 1.989186013 train_acc: 0.670 test_acc: 0.741\n",
            "Epoch: 070/100 cost: 1.944767219 train_acc: 0.730 test_acc: 0.747\n",
            "Epoch: 080/100 cost: 1.902213409 train_acc: 0.770 test_acc: 0.752\n",
            "Epoch: 090/100 cost: 1.861308463 train_acc: 0.740 test_acc: 0.757\n",
            "DONE\n"
          ],
          "name": "stdout"
        }
      ]
    }
  ]
}