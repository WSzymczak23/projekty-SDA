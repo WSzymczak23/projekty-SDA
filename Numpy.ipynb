{
  "nbformat": 4,
  "nbformat_minor": 0,
  "metadata": {
    "colab": {
      "name": "Numpy.ipynb",
      "provenance": [],
      "collapsed_sections": [],
      "include_colab_link": true
    },
    "kernelspec": {
      "name": "python3",
      "display_name": "Python 3"
    }
  },
  "cells": [
    {
      "cell_type": "markdown",
      "metadata": {
        "id": "view-in-github",
        "colab_type": "text"
      },
      "source": [
        "<a href=\"https://colab.research.google.com/github/WSzymczak23/projekty-SDA/blob/main/Numpy.ipynb\" target=\"_parent\"><img src=\"https://colab.research.google.com/assets/colab-badge.svg\" alt=\"Open In Colab\"/></a>"
      ]
    },
    {
      "cell_type": "markdown",
      "metadata": {
        "id": "vEqZd37Xr68Q"
      },
      "source": [
        ""
      ]
    },
    {
      "cell_type": "code",
      "metadata": {
        "id": "MS3rWrYKg2IT"
      },
      "source": [
        "#VECTOR ARRAYS"
      ],
      "execution_count": null,
      "outputs": []
    },
    {
      "cell_type": "code",
      "metadata": {
        "id": "HEaXy0_YWfH3"
      },
      "source": [
        "#%% import modules\n",
        "import numpy as np"
      ],
      "execution_count": null,
      "outputs": []
    },
    {
      "cell_type": "code",
      "metadata": {
        "colab": {
          "base_uri": "https://localhost:8080/"
        },
        "id": "WDpQLFOkdUCn",
        "outputId": "2067e1f5-f01a-4033-e568-e977cb9477fc"
      },
      "source": [
        "ll = [1, 2, 3, 4, 5, 6]\n",
        "v0 = np.array(ll)\n",
        "print(\"v0={}\".format(v0))\n",
        "\n",
        "print(type(v0))            # Prints \"<type 'numpy.ndarray'>\"\n",
        "print(\"v0 shape={}\".format(v0.shape))\n",
        "print(v0.dtype) # elements type\n",
        "\n",
        "#%% vector creation\n",
        "v1 = np.arange(1,10)\n",
        "print(\"v1={}\".format(v1))"
      ],
      "execution_count": null,
      "outputs": [
        {
          "output_type": "stream",
          "text": [
            "v0=[1 2 3 4 5 6]\n",
            "<class 'numpy.ndarray'>\n",
            "v0 shape=(6,)\n",
            "int64\n",
            "v1=[1 2 3 4 5 6 7 8 9]\n"
          ],
          "name": "stdout"
        }
      ]
    },
    {
      "cell_type": "code",
      "metadata": {
        "colab": {
          "base_uri": "https://localhost:8080/"
        },
        "id": "CIWz9HKydagy",
        "outputId": "6189ac91-1412-46fe-8703-60f84b70d12c"
      },
      "source": [
        "#%%\n",
        "v2 = np.arange(2,2.71,step=2)\n",
        "sum = np.sum(v2)\n",
        "print(\"sum={}\".format(sum))"
      ],
      "execution_count": null,
      "outputs": [
        {
          "output_type": "stream",
          "text": [
            "sum=10200\n"
          ],
          "name": "stdout"
        }
      ]
    },
    {
      "cell_type": "code",
      "metadata": {
        "colab": {
          "base_uri": "https://localhost:8080/"
        },
        "id": "R9G_Jh-2ObR8",
        "outputId": "b45fba5c-023a-4e1b-9861-24a6bc1684e3"
      },
      "source": [
        "x5=1.001\n",
        "np.power(x5, 1000)"
      ],
      "execution_count": null,
      "outputs": [
        {
          "output_type": "execute_result",
          "data": {
            "text/plain": [
              "2.7169239322355936"
            ]
          },
          "metadata": {
            "tags": []
          },
          "execution_count": 6
        }
      ]
    },
    {
      "cell_type": "code",
      "metadata": {
        "colab": {
          "base_uri": "https://localhost:8080/"
        },
        "id": "BKajfXmydxk7",
        "outputId": "6bda3db3-a200-4092-83b9-0d3ad23aecac"
      },
      "source": [
        "#%% dzieli na równe podzbiory\n",
        "v3 = np.linspace(0,10,num=9)\n",
        "print(\"v3={}\".format(v3.shape))"
      ],
      "execution_count": null,
      "outputs": [
        {
          "output_type": "stream",
          "text": [
            "v3=(9,)\n"
          ],
          "name": "stdout"
        }
      ]
    },
    {
      "cell_type": "code",
      "metadata": {
        "colab": {
          "base_uri": "https://localhost:8080/"
        },
        "id": "7gD38mGcd9oX",
        "outputId": "e2bd5111-e0e9-4f07-8b8e-17b63beeda96"
      },
      "source": [
        "#%%\n",
        "v3 = np.linspace(0,10,num=10,endpoint=False)\n",
        "print(\"v3={}\".format(v3))"
      ],
      "execution_count": null,
      "outputs": [
        {
          "output_type": "stream",
          "text": [
            "v3=[0. 1. 2. 3. 4. 5. 6. 7. 8. 9.]\n"
          ],
          "name": "stdout"
        }
      ]
    },
    {
      "cell_type": "code",
      "metadata": {
        "id": "AOX5QaI3eGPg",
        "colab": {
          "base_uri": "https://localhost:8080/"
        },
        "outputId": "901663c3-6f35-4126-e809-f73435a22dcb"
      },
      "source": [
        "#%%\n",
        "import numpy as np\n",
        "v4 = np.linspace(2,2.70481382942,num=100,endpoint=True)\n",
        "print(\"v4={}\".format(v4))\n",
        "#suma = sum(v4)\n",
        "#print (\"suma ciagu = {}\".format(suma))"
      ],
      "execution_count": null,
      "outputs": [
        {
          "output_type": "stream",
          "text": [
            "v4=[2.         2.00711933 2.01423866 2.02135799 2.02847733 2.03559666\n",
            " 2.04271599 2.04983532 2.05695465 2.06407398 2.07119332 2.07831265\n",
            " 2.08543198 2.09255131 2.09967064 2.10678997 2.11390931 2.12102864\n",
            " 2.12814797 2.1352673  2.14238663 2.14950596 2.1566253  2.16374463\n",
            " 2.17086396 2.17798329 2.18510262 2.19222195 2.19934129 2.20646062\n",
            " 2.21357995 2.22069928 2.22781861 2.23493794 2.24205727 2.24917661\n",
            " 2.25629594 2.26341527 2.2705346  2.27765393 2.28477326 2.2918926\n",
            " 2.29901193 2.30613126 2.31325059 2.32036992 2.32748925 2.33460859\n",
            " 2.34172792 2.34884725 2.35596658 2.36308591 2.37020524 2.37732458\n",
            " 2.38444391 2.39156324 2.39868257 2.4058019  2.41292123 2.42004057\n",
            " 2.4271599  2.43427923 2.44139856 2.44851789 2.45563722 2.46275655\n",
            " 2.46987589 2.47699522 2.48411455 2.49123388 2.49835321 2.50547254\n",
            " 2.51259188 2.51971121 2.52683054 2.53394987 2.5410692  2.54818853\n",
            " 2.55530787 2.5624272  2.56954653 2.57666586 2.58378519 2.59090452\n",
            " 2.59802386 2.60514319 2.61226252 2.61938185 2.62650118 2.63362051\n",
            " 2.64073984 2.64785918 2.65497851 2.66209784 2.66921717 2.6763365\n",
            " 2.68345583 2.69057517 2.6976945  2.70481383]\n"
          ],
          "name": "stdout"
        }
      ]
    },
    {
      "cell_type": "code",
      "metadata": {
        "id": "dixChDs9eUf1",
        "colab": {
          "base_uri": "https://localhost:8080/"
        },
        "outputId": "b33e3d3a-5fbc-4445-94ef-6311b0e0f8fb"
      },
      "source": [
        "# check size == shape\n",
        "print(v1.shape)\n",
        "print(v2.shape)\n",
        "print(v3.shape)\n",
        "print(v4.shape)"
      ],
      "execution_count": null,
      "outputs": [
        {
          "output_type": "stream",
          "text": [
            "(9,)\n",
            "(18,)\n",
            "(10,)\n",
            "(11,)\n"
          ],
          "name": "stdout"
        }
      ]
    },
    {
      "cell_type": "code",
      "metadata": {
        "id": "muwYggmieY21",
        "colab": {
          "base_uri": "https://localhost:8080/"
        },
        "outputId": "bfd12c00-09eb-44fc-d896-4f0b71ec825b"
      },
      "source": [
        "#%% matrix creation\n",
        "\n",
        "a1 = np.array([1,2,3,4]) # Create a rank 1 array\n",
        "print(\"a1={}\".format(a1))\n",
        "print(type(a1))            # Prints \"<type 'numpy.ndarray'>\"\n",
        "print(\"a1 shape={}\".format(a1.shape))\n",
        "print(a1.dtype) # elements type"
      ],
      "execution_count": null,
      "outputs": [
        {
          "output_type": "stream",
          "text": [
            "a1=[1 2 3 4]\n",
            "<class 'numpy.ndarray'>\n",
            "a1 shape=(4,)\n",
            "int64\n"
          ],
          "name": "stdout"
        }
      ]
    },
    {
      "cell_type": "code",
      "metadata": {
        "id": "uo0Rf7qVenO9",
        "colab": {
          "base_uri": "https://localhost:8080/"
        },
        "outputId": "289ad29b-79df-414a-cca4-d3b494d7570a"
      },
      "source": [
        "#%%\n",
        "a2 = np.array([ [1,2,3,4], [5,6,7,8] ])\n",
        "print(\"a2={}\".format(a2))\n",
        "print(\"a2 shape={}\".format(a2.shape))"
      ],
      "execution_count": null,
      "outputs": [
        {
          "output_type": "stream",
          "text": [
            "a2=[[1 2 3 4]\n",
            " [5 6 7 8]]\n",
            "a2 shape=(2, 4)\n"
          ],
          "name": "stdout"
        }
      ]
    },
    {
      "cell_type": "code",
      "metadata": {
        "id": "q0PP4ohlevjr",
        "colab": {
          "base_uri": "https://localhost:8080/"
        },
        "outputId": "561898ea-f2d5-4e6b-a8e9-a87df1e064e0"
      },
      "source": [
        "#%%\n",
        "a3 = np.zeros((4,2))      # Create an array of all zeros\n",
        "print(\"a3={}\".format(a3)) # Prints \"[[ 0.  0.]\n",
        "                          #          [ 0.  0.]]\"\n"
      ],
      "execution_count": null,
      "outputs": [
        {
          "output_type": "stream",
          "text": [
            "a3=[[0. 0.]\n",
            " [0. 0.]\n",
            " [0. 0.]\n",
            " [0. 0.]]\n"
          ],
          "name": "stdout"
        }
      ]
    },
    {
      "cell_type": "code",
      "metadata": {
        "id": "4hb0H0Tne0Go",
        "colab": {
          "base_uri": "https://localhost:8080/"
        },
        "outputId": "073bbe35-b55b-4eac-fa07-ba5b3455963c"
      },
      "source": [
        "#%%    \n",
        "a4 = np.ones((3,2))       # Create an array of all ones\n",
        "print(\"a4={}\".format(a4)) "
      ],
      "execution_count": null,
      "outputs": [
        {
          "output_type": "stream",
          "text": [
            "a4=[[1. 1.]\n",
            " [1. 1.]\n",
            " [1. 1.]]\n"
          ],
          "name": "stdout"
        }
      ]
    },
    {
      "cell_type": "code",
      "metadata": {
        "id": "tAcAr3IEe2l8",
        "colab": {
          "base_uri": "https://localhost:8080/"
        },
        "outputId": "ce7cf39d-7627-4b5c-9788-c8a52d2e513b"
      },
      "source": [
        "#%%\n",
        "a5 = np.eye(5)        # Create a 2x2 identity matrix\n",
        "print(\"a5={}\".format(a5)) \n"
      ],
      "execution_count": null,
      "outputs": [
        {
          "output_type": "stream",
          "text": [
            "a5=[[1. 0. 0. 0. 0.]\n",
            " [0. 1. 0. 0. 0.]\n",
            " [0. 0. 1. 0. 0.]\n",
            " [0. 0. 0. 1. 0.]\n",
            " [0. 0. 0. 0. 1.]]\n"
          ],
          "name": "stdout"
        }
      ]
    },
    {
      "cell_type": "code",
      "metadata": {
        "colab": {
          "base_uri": "https://localhost:8080/"
        },
        "id": "yHD7-uU_uRVu",
        "outputId": "1b18779e-9160-477d-ff48-642dd4e37a6b"
      },
      "source": [
        "# matrix with R=4 C=5 and 1 on diagnol\n",
        "# below main diagnol\n",
        "a = np.eye(4, 5, k = -3)\n",
        "print(\"\\nMatrix a : \\n\", a)"
      ],
      "execution_count": null,
      "outputs": [
        {
          "output_type": "stream",
          "text": [
            "\n",
            "Matrix a : \n",
            " [[0. 0. 0. 0. 0.]\n",
            " [0. 0. 0. 0. 0.]\n",
            " [0. 0. 0. 0. 0.]\n",
            " [1. 0. 0. 0. 0.]]\n"
          ],
          "name": "stdout"
        }
      ]
    },
    {
      "cell_type": "code",
      "metadata": {
        "id": "FdNbVD5je9bi",
        "colab": {
          "base_uri": "https://localhost:8080/"
        },
        "outputId": "8ab66251-560a-45c9-9efb-9fda98c4551d"
      },
      "source": [
        "#%% \n",
        "a6 = np.random.random((10,10)) # Create an array filled with random values\n",
        "print(\"a6={}\".format(a6))    # Might print \"[[ 0.91940167  0.08143941]\n",
        "                             #               [ 0.68744134  0.87236687]]\""
      ],
      "execution_count": null,
      "outputs": [
        {
          "output_type": "stream",
          "text": [
            "a6=[[0.61785776 0.69733483 0.94486125 0.39516468 0.85230068 0.08843073\n",
            "  0.71509158 0.56309789 0.66476971 0.73826528]\n",
            " [0.44556939 0.89482035 0.43936519 0.70981815 0.48692117 0.95379844\n",
            "  0.40281302 0.63744095 0.1079289  0.33998285]\n",
            " [0.95116673 0.92816692 0.53030048 0.39582924 0.80073315 0.67801687\n",
            "  0.55721402 0.91464475 0.01649249 0.35322642]\n",
            " [0.53090928 0.89320422 0.64557159 0.93947829 0.24160775 0.12630248\n",
            "  0.0324661  0.20760938 0.65295086 0.16131539]\n",
            " [0.5435457  0.08267851 0.80786189 0.34885974 0.55245523 0.59318325\n",
            "  0.09218903 0.31169939 0.09169429 0.890232  ]\n",
            " [0.75868833 0.92313987 0.68186244 0.07661366 0.16372315 0.86560008\n",
            "  0.91359314 0.76947707 0.35491933 0.44153292]\n",
            " [0.37103161 0.83904865 0.28297419 0.60623463 0.83794075 0.63988935\n",
            "  0.88777791 0.33392935 0.88180339 0.53110219]\n",
            " [0.81639448 0.37631455 0.26396647 0.64665631 0.78415226 0.44468471\n",
            "  0.2067345  0.3693022  0.3191577  0.10096242]\n",
            " [0.31613157 0.1456749  0.08636996 0.0796396  0.48851813 0.63945377\n",
            "  0.70535118 0.25948283 0.8594839  0.93848429]\n",
            " [0.72011998 0.11521044 0.46693023 0.8380132  0.78861592 0.76265093\n",
            "  0.5296649  0.21783865 0.2276937  0.8465778 ]]\n"
          ],
          "name": "stdout"
        }
      ]
    },
    {
      "cell_type": "code",
      "metadata": {
        "id": "qJiQj0D9fE4c",
        "colab": {
          "base_uri": "https://localhost:8080/"
        },
        "outputId": "44b37b25-b6b2-45bd-bb89-8e5144b94c0f"
      },
      "source": [
        "#%%\n",
        "a7 = np.full((5,6), 100)  # Create a constant array\n",
        "print(\"a7={}\".format(a7)) \n"
      ],
      "execution_count": null,
      "outputs": [
        {
          "output_type": "stream",
          "text": [
            "a7=[[100 100 100 100 100 100]\n",
            " [100 100 100 100 100 100]\n",
            " [100 100 100 100 100 100]\n",
            " [100 100 100 100 100 100]\n",
            " [100 100 100 100 100 100]]\n"
          ],
          "name": "stdout"
        }
      ]
    },
    {
      "cell_type": "code",
      "metadata": {
        "id": "VVgsQ1wdfMK6",
        "colab": {
          "base_uri": "https://localhost:8080/"
        },
        "outputId": "709f7a8a-085b-42d6-ee07-5e8ae12a997c"
      },
      "source": [
        "#%% 3d arrays, wgrrrrrrr!\n",
        "b1 = np.array([ \n",
        "                [ [1, 2,3], [3, 4,5], [5, 6,7] , [5, 6,7] ],\n",
        "                [ [11, 12, 13], [13, 14, 15], [15, 16, 17], [5, 6,7]  ],\n",
        "                [ [21, 22, 23], [23, 24, 25], [25, 26, 27], [5, 6,7]  ],\n",
        "                [ [31, 32, 33], [33, 34, 35], [35, 36, 37] , [5, 6,7] ],\n",
        "                [ [31, 32, 33], [33, 34, 35], [35, 36, 37] , [5, 6,7] ]\n",
        "              ])\n",
        "\n",
        "# \n",
        "#                 axis2=2\n",
        "#                ___________ \n",
        "#              /     /     /|     \n",
        "#   axis1=3   /     /     / |\n",
        "#            /_____/_____/  |\n",
        "#           |            |  |\n",
        "#           |            |  | \n",
        "# axis0=4   |            |  /\n",
        "#           |            | /\n",
        "#           |____________|/\n",
        "\n",
        "print(\"b1={}\".format(b1))\n",
        "print(\"b1 shape={}\".format(b1.shape))\n"
      ],
      "execution_count": null,
      "outputs": [
        {
          "output_type": "stream",
          "text": [
            "b1=[[[ 1  2  3]\n",
            "  [ 3  4  5]\n",
            "  [ 5  6  7]\n",
            "  [ 5  6  7]]\n",
            "\n",
            " [[11 12 13]\n",
            "  [13 14 15]\n",
            "  [15 16 17]\n",
            "  [ 5  6  7]]\n",
            "\n",
            " [[21 22 23]\n",
            "  [23 24 25]\n",
            "  [25 26 27]\n",
            "  [ 5  6  7]]\n",
            "\n",
            " [[31 32 33]\n",
            "  [33 34 35]\n",
            "  [35 36 37]\n",
            "  [ 5  6  7]]\n",
            "\n",
            " [[31 32 33]\n",
            "  [33 34 35]\n",
            "  [35 36 37]\n",
            "  [ 5  6  7]]]\n",
            "b1 shape=(5, 4, 3)\n"
          ],
          "name": "stdout"
        }
      ]
    },
    {
      "cell_type": "code",
      "metadata": {
        "id": "6JLNTsVOfVZe",
        "colab": {
          "base_uri": "https://localhost:8080/"
        },
        "outputId": "8bbbcc55-dfdc-4976-8ba1-c8cb3f492cc9"
      },
      "source": [
        "#%% help me, my brain is melting\n",
        "print(b1[0,:,:].shape)\n",
        "print(b1[0,:,:])\n",
        "\n",
        "#%%\n",
        "print(b1[:,2,:].shape)\n",
        "print(b1[:,2,:])\n",
        "#%%\n",
        "print(b1[1,2,0].shape)\n",
        "print(b1[1,2,0])\n",
        "\n",
        "# play with indexes\n",
        "\n",
        "# 5,2,3\n",
        "\n",
        "# %%"
      ],
      "execution_count": null,
      "outputs": [
        {
          "output_type": "stream",
          "text": [
            "(4, 3)\n",
            "[[1 2 3]\n",
            " [3 4 5]\n",
            " [5 6 7]\n",
            " [5 6 7]]\n",
            "(5, 3)\n",
            "[[ 5  6  7]\n",
            " [15 16 17]\n",
            " [25 26 27]\n",
            " [35 36 37]\n",
            " [35 36 37]]\n",
            "()\n",
            "15\n"
          ],
          "name": "stdout"
        }
      ]
    },
    {
      "cell_type": "code",
      "metadata": {
        "id": "tmByaQcefcRH"
      },
      "source": [
        "#MATRIX ELEMENT ACCESS"
      ],
      "execution_count": null,
      "outputs": []
    },
    {
      "cell_type": "code",
      "metadata": {
        "id": "ubLlrQ8kfqjB",
        "colab": {
          "base_uri": "https://localhost:8080/"
        },
        "outputId": "5a1a95e0-f76e-46c2-bd04-1670fb6c4307"
      },
      "source": [
        "# Create the following rank 2 array with shape (3, 4)\n",
        "# [[ 1  2  3  4]\n",
        "#  [ 5  6  7  8]\n",
        "#  [ 9 10 11 12]]\n",
        "a = np.array([[1,2,3,4], [5,6,7,8], [9,10,11,12]])\n",
        "print(a)\n",
        "print(a[2, 3])   # Prints \"2\""
      ],
      "execution_count": null,
      "outputs": [
        {
          "output_type": "stream",
          "text": [
            "[[ 1  2  3  4]\n",
            " [ 5  6  7  8]\n",
            " [ 9 10 11 12]]\n",
            "12\n"
          ],
          "name": "stdout"
        }
      ]
    },
    {
      "cell_type": "code",
      "metadata": {
        "id": "F9fi4dmxfsP8",
        "colab": {
          "base_uri": "https://localhost:8080/"
        },
        "outputId": "3a5099ef-128a-4cb8-a873-dc8713437cbf"
      },
      "source": [
        "#%%\n",
        "\n",
        "# Use slicing to pull out the subarray consisting of the first 2 rows\n",
        "# and columns 1 and 2; b is the following array of shape (2, 2):\n",
        "# [[2 3]\n",
        "#  [6 7]]\n",
        "b = a[:2, 1:3]\n",
        "print(b)\n",
        "c = a[:2]\n",
        "print(c)\n",
        "d= c[:,1:3]\n",
        "print(d)"
      ],
      "execution_count": null,
      "outputs": [
        {
          "output_type": "stream",
          "text": [
            "[[2 3]\n",
            " [6 7]]\n",
            "[[1 2 3 4]\n",
            " [5 6 7 8]]\n",
            "[[2 3]\n",
            " [6 7]]\n"
          ],
          "name": "stdout"
        }
      ]
    },
    {
      "cell_type": "code",
      "metadata": {
        "id": "wsyZaBFNfyBo",
        "colab": {
          "base_uri": "https://localhost:8080/"
        },
        "outputId": "bd04d2c7-12ab-4d79-c6ce-3ef5d0ffd4a2"
      },
      "source": [
        "#%% A slice of an array is a view into the same data, so modifying it\n",
        "# will modify the original array.\n",
        "print(a[0, 1])   # Prints \"2\"\n",
        "b[0, 0] = 77    # b[0, 0] is the same piece of data as a[0, 1]\n",
        "print( a[0, 1])   # Prints \"77\""
      ],
      "execution_count": null,
      "outputs": [
        {
          "output_type": "stream",
          "text": [
            "77\n",
            "77\n"
          ],
          "name": "stdout"
        }
      ]
    },
    {
      "cell_type": "code",
      "metadata": {
        "id": "MSK4R3muf266"
      },
      "source": [
        "#%% Create the following rank 2 array with shape (3, 4)\n",
        "# [[ 1  2  3  4]\n",
        "#  [ 5  6  7  8]\n",
        "#  [ 9 10 11 12]]\n",
        "a = np.array([[1,2,3,4], [5,6,7,8], [9,10,11,12]])"
      ],
      "execution_count": null,
      "outputs": []
    },
    {
      "cell_type": "code",
      "metadata": {
        "id": "L_A_w1Xvf5jY",
        "colab": {
          "base_uri": "https://localhost:8080/"
        },
        "outputId": "15258a3d-4e60-484c-aafe-6f8fc8373075"
      },
      "source": [
        "# Two ways of accessing the data in the middle row of the array.\n",
        "# Mixing integer indexing with slices yields an array of lower rank,\n",
        "# while using only slices yields an array of the same rank as the\n",
        "# original array:\n",
        "row_r1 = a[1, :]    # Rank 1 view of the second row of a  \n",
        "row_r2 = a[1:2, :]  # Rank 2 view of the second row of a\n",
        "print(row_r1, row_r1.shape)  # Prints \"[5 6 7 8] (4,)\"\n",
        "print(row_r2, row_r2.shape)  # Prints \"[[5 6 7 8]] (1, 4)\""
      ],
      "execution_count": null,
      "outputs": [
        {
          "output_type": "stream",
          "text": [
            "[5 6 7 8] (4,)\n",
            "[[5 6 7 8]] (1, 4)\n"
          ],
          "name": "stdout"
        }
      ]
    },
    {
      "cell_type": "code",
      "metadata": {
        "id": "IEgXEUVUgBVP",
        "colab": {
          "base_uri": "https://localhost:8080/"
        },
        "outputId": "11625ec0-420e-4302-dfd7-047841fe0384"
      },
      "source": [
        "#%% We can make the same distinction when accessing columns of an array:\n",
        "col_r1 = a[:, 1]\n",
        "col_r2 = a[:, 1:2]\n",
        "print(col_r1, col_r1.shape)  # Prints \"[ 2  6 10] (3,)\"\n",
        "print(col_r2, col_r2.shape)  # Prints \"[[ 2]\n",
        "                            #          [ 6]\n",
        "                            #          [10]] (3, 1)\""
      ],
      "execution_count": null,
      "outputs": [
        {
          "output_type": "stream",
          "text": [
            "[ 2  6 10] (3,)\n",
            "[[ 2]\n",
            " [ 6]\n",
            " [10]] (3, 1)\n"
          ],
          "name": "stdout"
        }
      ]
    },
    {
      "cell_type": "code",
      "metadata": {
        "id": "zD6SMBg-gKCE",
        "colab": {
          "base_uri": "https://localhost:8080/"
        },
        "outputId": "06e2e0be-3002-45ab-d720-fdeb774b59aa"
      },
      "source": [
        "#%% Integer array indexing: \n",
        "\n",
        "a = np.array([[1,2], [3, 4], [5, 6]])\n",
        "a"
      ],
      "execution_count": null,
      "outputs": [
        {
          "output_type": "execute_result",
          "data": {
            "text/plain": [
              "array([[1, 2],\n",
              "       [3, 4],\n",
              "       [5, 6]])"
            ]
          },
          "metadata": {
            "tags": []
          },
          "execution_count": 34
        }
      ]
    },
    {
      "cell_type": "code",
      "metadata": {
        "colab": {
          "base_uri": "https://localhost:8080/"
        },
        "id": "1fTQpQBeZTxa",
        "outputId": "6fac07e8-a12c-436c-a492-1db62d6c46b1"
      },
      "source": [
        "b = np.array([[1,2],[3,4],[5,6]])\n",
        "b"
      ],
      "execution_count": null,
      "outputs": [
        {
          "output_type": "execute_result",
          "data": {
            "text/plain": [
              "array([[1, 2],\n",
              "       [3, 4],\n",
              "       [5, 6]])"
            ]
          },
          "metadata": {
            "tags": []
          },
          "execution_count": 32
        }
      ]
    },
    {
      "cell_type": "code",
      "metadata": {
        "id": "gqpQxWdbgVfm",
        "colab": {
          "base_uri": "https://localhost:8080/"
        },
        "outputId": "12fa388c-abf6-4aa5-fbcd-65febdab4491"
      },
      "source": [
        "# An example of integer array indexing.\n",
        "# The returned array will have shape (3,) and \n",
        "print(a[[0, 1, 2], [0, 1, 1]])  # Prints \"[1 4 5]\""
      ],
      "execution_count": null,
      "outputs": [
        {
          "output_type": "stream",
          "text": [
            "[1 4 6]\n"
          ],
          "name": "stdout"
        }
      ]
    },
    {
      "cell_type": "code",
      "metadata": {
        "id": "cWDcfn1ogWJV",
        "colab": {
          "base_uri": "https://localhost:8080/"
        },
        "outputId": "34bc3091-aef7-4f7a-bf63-f343b6b3f28f"
      },
      "source": [
        "# The above example of integer array indexing is equivalent to this:\n",
        "print( np.array([a[0, 0], a[1, 1], a[2, 0]]))  # Prints \"[1 4 5]\""
      ],
      "execution_count": null,
      "outputs": [
        {
          "output_type": "stream",
          "text": [
            "[1 4 5]\n"
          ],
          "name": "stdout"
        }
      ]
    },
    {
      "cell_type": "code",
      "metadata": {
        "id": "NiSTXHCqgYgV",
        "colab": {
          "base_uri": "https://localhost:8080/"
        },
        "outputId": "5c427810-46ac-4541-c16b-62ba3ff6eecf"
      },
      "source": [
        "# When using integer array indexing, you can reuse the same\n",
        "# element from the source array:\n",
        "print( a[[0, 1], [1, 1]])  # Prints \"[2 2]\""
      ],
      "execution_count": null,
      "outputs": [
        {
          "output_type": "stream",
          "text": [
            "[2 4]\n"
          ],
          "name": "stdout"
        }
      ]
    },
    {
      "cell_type": "code",
      "metadata": {
        "id": "bZOykIE-gaM5",
        "colab": {
          "base_uri": "https://localhost:8080/"
        },
        "outputId": "681e1df7-9c24-4615-aa9a-836753b2484a"
      },
      "source": [
        "# Equivalent to the previous integer array indexing example\n",
        "print(np.array([a[0, 1], a[0, 1]]))  # Prints \"[2 2]\"       "
      ],
      "execution_count": null,
      "outputs": [
        {
          "output_type": "stream",
          "text": [
            "[2 2]\n"
          ],
          "name": "stdout"
        }
      ]
    },
    {
      "cell_type": "code",
      "metadata": {
        "id": "7kG7qx2BgcSt",
        "colab": {
          "base_uri": "https://localhost:8080/"
        },
        "outputId": "c351d676-fcf3-442f-ed9e-89cd7ba907cc"
      },
      "source": [
        "#%%  Create a new array from which we will select elements\n",
        "a = np.array([[1,2,3,4,5], [6,7,8, 9, 10], [11,12,13,14,15], [16, 17, 18, 19, 20], [21,22,23,24,25]])\n",
        "\n",
        "print(a)  # prints \"array([[ 1,  2,  3],\n",
        "         #                [ 4,  5,  6],\n",
        "         #                [ 7,  8,  9],\n",
        "         #                [10, 11, 12]])\""
      ],
      "execution_count": null,
      "outputs": [
        {
          "output_type": "stream",
          "text": [
            "[[ 1  2  3  4  5]\n",
            " [ 6  7  8  9 10]\n",
            " [11 12 13 14 15]\n",
            " [16 17 18 19 20]\n",
            " [21 22 23 24 25]]\n"
          ],
          "name": "stdout"
        }
      ]
    },
    {
      "cell_type": "code",
      "metadata": {
        "id": "9CWp-FlSgf7J"
      },
      "source": [
        "# Create an array of indices\n",
        "b = np.array([0, 2, 0, 1])"
      ],
      "execution_count": null,
      "outputs": []
    },
    {
      "cell_type": "code",
      "metadata": {
        "id": "ovLnu1Qzghsw",
        "colab": {
          "base_uri": "https://localhost:8080/"
        },
        "outputId": "bd814222-f307-46ed-d149-73537f3d1902"
      },
      "source": [
        "# Select one element from each row of a using the indices in b\n",
        "print( a[np.arange(4), b])  # Prints \"[ 1  6  7 11]\""
      ],
      "execution_count": null,
      "outputs": [
        {
          "output_type": "stream",
          "text": [
            "[ 1  8 11 17]\n"
          ],
          "name": "stdout"
        }
      ]
    },
    {
      "cell_type": "code",
      "metadata": {
        "id": "cqVfqCkCgjgD",
        "colab": {
          "base_uri": "https://localhost:8080/"
        },
        "outputId": "37096765-f889-42e2-b95f-6f08f76b58b6"
      },
      "source": [
        "#%% Mutate one element from each row of a using the indices in b\n",
        "a[np.arange(4), b] += 10\n",
        "\n",
        "print( a)  # prints \"array([[11,  2,  3],\n",
        "         #                [ 4,  5, 16],\n",
        "         #                [17,  8,  9],\n",
        "         #                [10, 21, 12]])"
      ],
      "execution_count": null,
      "outputs": [
        {
          "output_type": "stream",
          "text": [
            "[[11  2  3]\n",
            " [ 4  5 16]\n",
            " [17  8  9]\n",
            " [10 21 12]]\n"
          ],
          "name": "stdout"
        }
      ]
    },
    {
      "cell_type": "code",
      "metadata": {
        "id": "AMcmj1XSgqzc",
        "colab": {
          "base_uri": "https://localhost:8080/"
        },
        "outputId": "0d33a0ca-61ed-4929-b02c-1fee8d70ca9e"
      },
      "source": [
        "#Boolean array indexing         \n",
        "\n",
        "a = np.array([[1,2], [3, 4], [5, 6]])\n",
        "\n",
        "bool_idx = (a > 2)  # Find the elements of a that are bigger than 2;\n",
        "                    # this returns a numpy array of Booleans of the same\n",
        "                    # shape as a, where each slot of bool_idx tells\n",
        "                    # whether that element of a is > 2.\n",
        "\n",
        "print( bool_idx)      # Prints \"[[False False]\n",
        "                    #          [ True  True]\n",
        "                    #          [ True  True]]\"\n",
        "\n",
        "# We use boolean array indexing to construct a rank 1 array\n",
        "# consisting of the elements of a corresponding to the True values\n",
        "# of bool_idx\n",
        "print(a[bool_idx])  # Prints \"[3 4 5 6]\"\n",
        "\n",
        "# We can do all of the above in a single concise statement:\n",
        "print(a[a > 2])     # Prints \"[3 4 5 6]\""
      ],
      "execution_count": null,
      "outputs": [
        {
          "output_type": "stream",
          "text": [
            "[[False False]\n",
            " [ True  True]\n",
            " [ True  True]]\n",
            "[3 4 5 6]\n",
            "[3 4 5 6]\n"
          ],
          "name": "stdout"
        }
      ]
    },
    {
      "cell_type": "code",
      "metadata": {
        "id": "Kk6-3OoPg7Za"
      },
      "source": [
        "#MATH in matrixes"
      ],
      "execution_count": null,
      "outputs": []
    },
    {
      "cell_type": "code",
      "metadata": {
        "id": "OysWJIoFhGJx",
        "colab": {
          "base_uri": "https://localhost:8080/"
        },
        "outputId": "4cf931cb-4f6f-475b-92b7-1893ba3a9500"
      },
      "source": [
        "x = np.array([1, 2])  # Let numpy choose the datatype\n",
        "print( x.dtype)         # Prints \"int64\"\n",
        "\n",
        "x = np.array([1., 2.])  # Let numpy choose the datatype\n",
        "print( x.dtype)             # Prints \"float64\"\n",
        "\n",
        "x = np.array([1, 127], dtype=np.int8)  # Force a particular datatype\n",
        "print(x.dtype)       \n",
        "\n",
        "#%%\n",
        "x = np.array([1, 128], dtype=np.int8)  # Force a particular datatype\n",
        "print(x)       "
      ],
      "execution_count": null,
      "outputs": [
        {
          "output_type": "stream",
          "text": [
            "int64\n",
            "float64\n",
            "int8\n",
            "[   1 -128]\n"
          ],
          "name": "stdout"
        }
      ]
    },
    {
      "cell_type": "code",
      "metadata": {
        "id": "gpALYJB_hG7U",
        "colab": {
          "base_uri": "https://localhost:8080/"
        },
        "outputId": "536763ea-bfe2-40c6-dd9a-29111d377ff5"
      },
      "source": [
        "#%% basic math operation\n",
        "x = np.array([[1,2],[3,4], [5,6]], dtype=np.float64)\n",
        "y = np.array([[5,6, 1], [8,9,1]], dtype=np.float64)\n",
        "print(x.shape)\n",
        "print(y.shape)"
      ],
      "execution_count": null,
      "outputs": [
        {
          "output_type": "stream",
          "text": [
            "(3, 2)\n",
            "(2, 3)\n"
          ],
          "name": "stdout"
        }
      ]
    },
    {
      "cell_type": "code",
      "metadata": {
        "id": "cauh2NHshKE-",
        "colab": {
          "base_uri": "https://localhost:8080/"
        },
        "outputId": "04c08528-a46e-4c28-df06-03421d582778"
      },
      "source": [
        "#%% Elementwise sum; both produce the array\n",
        "# [[ 6.0  8.0]\n",
        "#  [10.0 12.0]]\n",
        "print(x + y)\n",
        "print(np.add(x, y))"
      ],
      "execution_count": null,
      "outputs": [
        {
          "output_type": "stream",
          "text": [
            "[[ 6.  8.]\n",
            " [ 4.  5.]\n",
            " [13. 15.]]\n",
            "[[ 6.  8.]\n",
            " [ 4.  5.]\n",
            " [13. 15.]]\n"
          ],
          "name": "stdout"
        }
      ]
    },
    {
      "cell_type": "code",
      "metadata": {
        "id": "AT_r8-X-hOM_",
        "colab": {
          "base_uri": "https://localhost:8080/"
        },
        "outputId": "9cc12ef5-c749-4501-8050-89f39e7667cb"
      },
      "source": [
        "#%% Elementwise difference; both produce the array\n",
        "# [[-4.0 -4.0]\n",
        "#  [-4.0 -4.0]]\n",
        "print(x - y)\n",
        "\n",
        "print(np.subtract(x, y))"
      ],
      "execution_count": null,
      "outputs": [
        {
          "output_type": "stream",
          "text": [
            "[[-4. -4.]\n",
            " [ 2.  3.]\n",
            " [-3. -3.]]\n",
            "[[-4. -4.]\n",
            " [ 2.  3.]\n",
            " [-3. -3.]]\n"
          ],
          "name": "stdout"
        }
      ]
    },
    {
      "cell_type": "code",
      "metadata": {
        "colab": {
          "base_uri": "https://localhost:8080/"
        },
        "id": "v0FRovVRjzFD",
        "outputId": "2f98dfae-e34c-4a8e-96d8-43a67a900592"
      },
      "source": [
        "print(x) #3x2\n"
      ],
      "execution_count": null,
      "outputs": [
        {
          "output_type": "stream",
          "text": [
            "[[1. 2.]\n",
            " [3. 4.]\n",
            " [5. 6.]]\n"
          ],
          "name": "stdout"
        }
      ]
    },
    {
      "cell_type": "code",
      "metadata": {
        "colab": {
          "base_uri": "https://localhost:8080/"
        },
        "id": "zQojBcqFQA6i",
        "outputId": "48dd7bd6-6b91-4ea9-e789-5cfb2b01d11c"
      },
      "source": [
        "print(y) #2x3"
      ],
      "execution_count": null,
      "outputs": [
        {
          "output_type": "stream",
          "text": [
            "[[5. 6. 1.]\n",
            " [8. 9. 1.]]\n"
          ],
          "name": "stdout"
        }
      ]
    },
    {
      "cell_type": "code",
      "metadata": {
        "id": "TYoy0zkAhVTV",
        "colab": {
          "base_uri": "https://localhost:8080/"
        },
        "outputId": "f972b292-3c01-42b3-8cea-9374c812709d"
      },
      "source": [
        "#%% Elementwise product; both produce the array\n",
        "# [[ 5.0 12.0]\n",
        "#  [21.0 32.0]]\n",
        "print(np.dot(x, y))\n"
      ],
      "execution_count": null,
      "outputs": [
        {
          "output_type": "stream",
          "text": [
            "[[21. 24.  3.]\n",
            " [47. 54.  7.]\n",
            " [73. 84. 11.]]\n"
          ],
          "name": "stdout"
        }
      ]
    },
    {
      "cell_type": "code",
      "metadata": {
        "id": "4sx-JSH_hYDt",
        "colab": {
          "base_uri": "https://localhost:8080/"
        },
        "outputId": "488f0d75-9542-498f-ebc4-d41f80617bef"
      },
      "source": [
        "#%% Elementwise division; both produce the array\n",
        "# [[ 0.2         0.33333333]\n",
        "#  [ 0.42857143  0.5       ]]\n",
        "print(x / y)\n",
        "print(np.divide(x, y))"
      ],
      "execution_count": null,
      "outputs": [
        {
          "output_type": "stream",
          "text": [
            "[[0.2        0.33333333]\n",
            " [0.42857143 0.5       ]]\n",
            "[[0.2        0.33333333]\n",
            " [0.42857143 0.5       ]]\n"
          ],
          "name": "stdout"
        }
      ]
    },
    {
      "cell_type": "code",
      "metadata": {
        "id": "dssw1l2dhag8",
        "colab": {
          "base_uri": "https://localhost:8080/"
        },
        "outputId": "7646e1dd-777d-48ba-967b-22ba68cd822c"
      },
      "source": [
        "#%% \n",
        "# list of math functions https://numpy.org/doc/stable/reference/routines.math.html\n",
        "\n",
        "#%% Elementwise square root; produces the array\n",
        "# [[ 1.          1.41421356]\n",
        "#  [ 1.73205081  2.        ]]\n",
        "print( np.sqrt(x))"
      ],
      "execution_count": null,
      "outputs": [
        {
          "output_type": "stream",
          "text": [
            "[[1.         1.41421356]\n",
            " [1.73205081 2.        ]]\n"
          ],
          "name": "stdout"
        }
      ]
    },
    {
      "cell_type": "code",
      "metadata": {
        "id": "FSyokfmshc0Z"
      },
      "source": [
        "#%% vector matrix operation\n",
        "x = np.array([[1,2],[3,4]])\n",
        "y = np.array([[5,6],[7,8]])\n",
        "v = np.array([9,10])\n",
        "w = np.array([11, 12])"
      ],
      "execution_count": null,
      "outputs": []
    },
    {
      "cell_type": "code",
      "metadata": {
        "id": "LKUHzpmzhhHR",
        "colab": {
          "base_uri": "https://localhost:8080/"
        },
        "outputId": "6d1edf59-93ea-4372-fc27-5feee2ffcd52"
      },
      "source": [
        "#%% Inner product of vectors; both produce 219\n",
        "print( v.dot(w))\n",
        "print( np.dot(v, w))"
      ],
      "execution_count": null,
      "outputs": [
        {
          "output_type": "stream",
          "text": [
            "219\n",
            "219\n"
          ],
          "name": "stdout"
        }
      ]
    },
    {
      "cell_type": "code",
      "metadata": {
        "id": "KEPrPgSchm5i",
        "colab": {
          "base_uri": "https://localhost:8080/"
        },
        "outputId": "becf4e8e-6c8a-4fa4-e92a-06c2d7fbff57"
      },
      "source": [
        "# Matrix / vector product; both produce the rank 1 array [29 67]\n",
        "print(x.shape)\n",
        "print(v.shape)\n",
        "print(x.dot(v))\n",
        "print(np.dot(x, v))\n"
      ],
      "execution_count": null,
      "outputs": [
        {
          "output_type": "stream",
          "text": [
            "(2, 2)\n",
            "(2,)\n",
            "[29 67]\n",
            "[29 67]\n"
          ],
          "name": "stdout"
        }
      ]
    },
    {
      "cell_type": "code",
      "metadata": {
        "id": "-hD9KjFjhprc",
        "colab": {
          "base_uri": "https://localhost:8080/"
        },
        "outputId": "0df449b9-26fb-4d11-8d64-59505eb2cca8"
      },
      "source": [
        "# Matrix / matrix product; both produce the rank 2 array\n",
        "# [[19 22]\n",
        "#  [43 50]]\n",
        "print(x.dot(y))\n",
        "print(np.dot(x, y))"
      ],
      "execution_count": null,
      "outputs": [
        {
          "output_type": "stream",
          "text": [
            "[[19 22]\n",
            " [43 50]]\n",
            "[[19 22]\n",
            " [43 50]]\n"
          ],
          "name": "stdout"
        }
      ]
    },
    {
      "cell_type": "code",
      "metadata": {
        "id": "61k1U4mrhsLK",
        "colab": {
          "base_uri": "https://localhost:8080/"
        },
        "outputId": "8759870b-2476-4146-b1d1-1b74a4a9e86b"
      },
      "source": [
        "#%%\n",
        "x = np.array([[1,2],[3,4]])\n",
        "\n",
        "print(x)\n",
        "print(np.sum(x))  # Compute sum of all elements; prints \"10\"\n",
        "print(np.sum(x, axis=0))# Compute sum of each column; prints \"[4 6]\"\n",
        "print(np.sum(x, axis=1))  # Compute sum of each row; prints \"[3 7]\""
      ],
      "execution_count": null,
      "outputs": [
        {
          "output_type": "stream",
          "text": [
            "[[1 2]\n",
            " [3 4]]\n",
            "10\n",
            "[4 6]\n",
            "[3 7]\n"
          ],
          "name": "stdout"
        }
      ]
    },
    {
      "cell_type": "code",
      "metadata": {
        "id": "rF_MePcQhwbO",
        "colab": {
          "base_uri": "https://localhost:8080/"
        },
        "outputId": "dc0f2897-8415-4575-e81d-504a484e9197"
      },
      "source": [
        "#%%\n",
        "print(np.mean(x))  # Compute mean of all elements;\n",
        "print(np.mean(x, axis=0))# Compute mean of each column;\n",
        "print(np.mean(x, axis=1))  # Compute mean of each row; "
      ],
      "execution_count": null,
      "outputs": [
        {
          "output_type": "stream",
          "text": [
            "2.5\n",
            "[2. 3.]\n",
            "[1.5 3.5]\n"
          ],
          "name": "stdout"
        }
      ]
    },
    {
      "cell_type": "code",
      "metadata": {
        "id": "AqeSNszthyQE",
        "colab": {
          "base_uri": "https://localhost:8080/"
        },
        "outputId": "0b2391fc-99f9-4c7d-d48a-e3e256887fd3"
      },
      "source": [
        "#%%\n",
        "print(np.std(x))          # Compute standard derivation of all elements;\n",
        "print(np.std(x, axis=0))  # Compute standard derivation of each column;\n",
        "print(np.std(x, axis=1))  # Compute standard derivation of each row; "
      ],
      "execution_count": null,
      "outputs": [
        {
          "output_type": "stream",
          "text": [
            "1.118033988749895\n",
            "[1. 1.]\n",
            "[0.5 0.5]\n"
          ],
          "name": "stdout"
        }
      ]
    },
    {
      "cell_type": "code",
      "metadata": {
        "id": "9rG2kbB5h2YV",
        "colab": {
          "base_uri": "https://localhost:8080/"
        },
        "outputId": "9eb7b5a8-bb9e-4f20-c771-334156bdaea9"
      },
      "source": [
        "#%%\n",
        "x = np.array([[1,2], [3,4]])\n",
        "print(x)    # Prints \"[[1 2]\n",
        "           #          [3 4]]\"\n",
        "print(x.T)  # Prints \"[[1 3]\n",
        "           #          [2 4]]\"\n"
      ],
      "execution_count": null,
      "outputs": [
        {
          "output_type": "stream",
          "text": [
            "[[1 2]\n",
            " [3 4]]\n",
            "[[1 3]\n",
            " [2 4]]\n"
          ],
          "name": "stdout"
        }
      ]
    },
    {
      "cell_type": "code",
      "metadata": {
        "id": "yWpqPrRRh5ZM",
        "colab": {
          "base_uri": "https://localhost:8080/"
        },
        "outputId": "3a1b5ca0-bd4e-4075-cc29-1774d4284195"
      },
      "source": [
        "#%% Note that taking the transpose of a rank 1 array does nothing:\n",
        "v = np.array([1,2,3])\n",
        "print(v)  # Prints \"[1 2 3]\"\n",
        "print(v.T)  # Prints \"[1 2 3]\""
      ],
      "execution_count": null,
      "outputs": [
        {
          "output_type": "stream",
          "text": [
            "[1 2 3]\n",
            "[1 2 3]\n"
          ],
          "name": "stdout"
        }
      ]
    },
    {
      "cell_type": "code",
      "metadata": {
        "id": "naEyvgagh7f0",
        "colab": {
          "base_uri": "https://localhost:8080/"
        },
        "outputId": "6b582302-775f-4c1a-e5e8-ea36cfc4599f"
      },
      "source": [
        "# generate linear map from (-pi/2, pi/2)\n",
        "x = np.linspace(-np.pi/2,np.pi/2,10)\n",
        "\n",
        "# calculate sine and cosine in one step, for whole array\n",
        "print(np.sin(x))\n",
        "\n",
        "print(np.cos(x))"
      ],
      "execution_count": null,
      "outputs": [
        {
          "output_type": "stream",
          "text": [
            "[-1.         -0.93969262 -0.76604444 -0.5        -0.17364818  0.17364818\n",
            "  0.5         0.76604444  0.93969262  1.        ]\n",
            "[6.12323400e-17 3.42020143e-01 6.42787610e-01 8.66025404e-01\n",
            " 9.84807753e-01 9.84807753e-01 8.66025404e-01 6.42787610e-01\n",
            " 3.42020143e-01 6.12323400e-17]\n"
          ],
          "name": "stdout"
        }
      ]
    },
    {
      "cell_type": "code",
      "metadata": {
        "id": "iDYBe5rWh-ok",
        "colab": {
          "base_uri": "https://localhost:8080/"
        },
        "outputId": "61e06eac-e34f-4016-fabf-8043b0acfee0"
      },
      "source": [
        "# [-5, ... , 5]\n",
        "x = np.arange(-5,5)\n",
        "\n",
        "#%% calcultae e^(-5), .... , e^5\n",
        "print(np.exp(x))\n",
        "\n",
        "#%% x^2, compute x to power of 2 \n",
        "print(np.power(x,2))\n",
        "\n",
        "# using python operators compute each element of matrix x to power of 2\n",
        "print(x**2)\n",
        "\n",
        "# calculate 2^-5 ... 2^5, !!! error, integer not allowed negative exponent\n",
        "#print(np.power(2,x))\n",
        "\n",
        "# now everything works as expected :)\n",
        "x = np.arange(-5,5, dtype=np.float)"
      ],
      "execution_count": null,
      "outputs": [
        {
          "output_type": "stream",
          "text": [
            "[6.73794700e-03 1.83156389e-02 4.97870684e-02 1.35335283e-01\n",
            " 3.67879441e-01 1.00000000e+00 2.71828183e+00 7.38905610e+00\n",
            " 2.00855369e+01 5.45981500e+01]\n",
            "[25 16  9  4  1  0  1  4  9 16]\n",
            "[25 16  9  4  1  0  1  4  9 16]\n"
          ],
          "name": "stdout"
        }
      ]
    },
    {
      "cell_type": "code",
      "metadata": {
        "id": "peSQnOKViDX4",
        "colab": {
          "base_uri": "https://localhost:8080/"
        },
        "outputId": "1e1053ed-9aec-4147-f77b-dca146b7fae1"
      },
      "source": [
        "# natural logarithm, look at minus values!!\n",
        "print(np.log(x))\n",
        "\n",
        "xx = np.power(2,x)\n",
        "print(xx)\n",
        "\n",
        "# logarithm base 2\n",
        "print(np.log2(xx))"
      ],
      "execution_count": null,
      "outputs": [
        {
          "output_type": "stream",
          "text": [
            "[       nan        nan        nan        nan        nan       -inf\n",
            " 0.         0.69314718 1.09861229 1.38629436]\n",
            "[ 0.03125  0.0625   0.125    0.25     0.5      1.       2.       4.\n",
            "  8.      16.     ]\n",
            "[-5. -4. -3. -2. -1.  0.  1.  2.  3.  4.]\n"
          ],
          "name": "stdout"
        },
        {
          "output_type": "stream",
          "text": [
            "/usr/local/lib/python3.6/dist-packages/ipykernel_launcher.py:2: RuntimeWarning: divide by zero encountered in log\n",
            "  \n",
            "/usr/local/lib/python3.6/dist-packages/ipykernel_launcher.py:2: RuntimeWarning: invalid value encountered in log\n",
            "  \n"
          ],
          "name": "stderr"
        }
      ]
    },
    {
      "cell_type": "code",
      "metadata": {
        "id": "BLvaViNBiGeI"
      },
      "source": [
        "#Matrix manipulation"
      ],
      "execution_count": null,
      "outputs": []
    },
    {
      "cell_type": "code",
      "metadata": {
        "id": "XVqCI0G7iMlZ",
        "colab": {
          "base_uri": "https://localhost:8080/"
        },
        "outputId": "b014cfba-eb6a-45e7-db4e-191402d73b6e"
      },
      "source": [
        "#%%\n",
        "a1 = np.arange(0,24,step=1)\n",
        "print(a1)\n"
      ],
      "execution_count": null,
      "outputs": [
        {
          "output_type": "stream",
          "text": [
            "[ 0  1  2  3  4  5  6  7  8  9 10 11 12 13 14 15 16 17 18 19 20 21 22 23]\n"
          ],
          "name": "stdout"
        }
      ]
    },
    {
      "cell_type": "code",
      "metadata": {
        "id": "s8mCOtxIiRMc",
        "colab": {
          "base_uri": "https://localhost:8080/"
        },
        "outputId": "762e3cbd-58a9-4b3a-8356-800c9641ecae"
      },
      "source": [
        "#%%\n",
        "# reshape matrix a1 into (2,12) matrix, \n",
        "a2 = np.reshape(a1,(3,8))\n",
        "print(a2)"
      ],
      "execution_count": null,
      "outputs": [
        {
          "output_type": "stream",
          "text": [
            "[[ 0  1  2  3  4  5  6  7]\n",
            " [ 8  9 10 11 12 13 14 15]\n",
            " [16 17 18 19 20 21 22 23]]\n"
          ],
          "name": "stdout"
        }
      ]
    },
    {
      "cell_type": "code",
      "metadata": {
        "id": "zhMXE9tziT4z",
        "colab": {
          "base_uri": "https://localhost:8080/"
        },
        "outputId": "f5106cb6-a9b6-438d-ec0f-049911cd3b72"
      },
      "source": [
        "#%%\n",
        "a1[0] = 12345\n",
        "print(a2)\n",
        "# assing correct value as was before\n",
        "a1[0] = 0"
      ],
      "execution_count": null,
      "outputs": [
        {
          "output_type": "stream",
          "text": [
            "[[12345     1     2     3     4     5     6     7]\n",
            " [    8     9    10    11    12    13    14    15]\n",
            " [   16    17    18    19    20    21    22    23]]\n"
          ],
          "name": "stdout"
        }
      ]
    },
    {
      "cell_type": "code",
      "metadata": {
        "id": "1tEzwTZqia97",
        "colab": {
          "base_uri": "https://localhost:8080/"
        },
        "outputId": "d0d251aa-6195-4da1-9696-309cf27949cc"
      },
      "source": [
        "#%%\n",
        "a3 = np.reshape(a2,(3,8))\n",
        "print(a3)\n",
        "a4 = np.reshape(a2,(4,6))\n",
        "print(a4)\n",
        "a5 = np.reshape(a2,(6,4))\n",
        "print(a5)"
      ],
      "execution_count": null,
      "outputs": [
        {
          "output_type": "stream",
          "text": [
            "[[ 0  1  2  3  4  5  6  7]\n",
            " [ 8  9 10 11 12 13 14 15]\n",
            " [16 17 18 19 20 21 22 23]]\n",
            "[[ 0  1  2  3  4  5]\n",
            " [ 6  7  8  9 10 11]\n",
            " [12 13 14 15 16 17]\n",
            " [18 19 20 21 22 23]]\n",
            "[[ 0  1  2  3]\n",
            " [ 4  5  6  7]\n",
            " [ 8  9 10 11]\n",
            " [12 13 14 15]\n",
            " [16 17 18 19]\n",
            " [20 21 22 23]]\n"
          ],
          "name": "stdout"
        }
      ]
    },
    {
      "cell_type": "code",
      "metadata": {
        "id": "kK5N19Mlic5n"
      },
      "source": [
        "\n",
        "#%% resize - https://docs.scipy.org/doc/numpy-1.13.0/reference/generated/numpy.resize.html#numpy.resize\n",
        "# compare with reshape :)\n",
        "\n",
        "\n",
        "a1 = np.ones((3,3))\n",
        "a2 = np.ones((8,3))*2\n",
        "a3 = np.ones((3,7))*1000"
      ],
      "execution_count": null,
      "outputs": []
    },
    {
      "cell_type": "code",
      "metadata": {
        "colab": {
          "base_uri": "https://localhost:8080/"
        },
        "id": "XQfOgoQDzmcL",
        "outputId": "4b0e58f8-a1f0-494e-bb35-2baec8a9d4d2"
      },
      "source": [
        "print(a1)\n",
        "print(a2)"
      ],
      "execution_count": null,
      "outputs": [
        {
          "output_type": "stream",
          "text": [
            "[[1. 1. 1.]\n",
            " [1. 1. 1.]\n",
            " [1. 1. 1.]]\n",
            "[[2. 2. 2.]\n",
            " [2. 2. 2.]\n",
            " [2. 2. 2.]\n",
            " [2. 2. 2.]\n",
            " [2. 2. 2.]\n",
            " [2. 2. 2.]\n",
            " [2. 2. 2.]\n",
            " [2. 2. 2.]]\n"
          ],
          "name": "stdout"
        }
      ]
    },
    {
      "cell_type": "code",
      "metadata": {
        "id": "fJhSAvGPif0V",
        "colab": {
          "base_uri": "https://localhost:8080/"
        },
        "outputId": "5d131cff-3641-4f6d-b5bb-2de43a4d2b42"
      },
      "source": [
        "# Join a sequence of arrays along an existing axis\n",
        "# https://docs.scipy.org/doc/numpy-1.13.0/reference/generated/numpy.concatenate.html#numpy.concatenate\n",
        "np.concatenate((a1,a2), axis=0)\n",
        "\n",
        "# ValueError: all the input array dimensions except for the concatenation axis must match exactly\n",
        "# np.concatenate((a1,a3))\n",
        "\n",
        "np.concatenate((a1,a3), axis=1)"
      ],
      "execution_count": null,
      "outputs": [
        {
          "output_type": "execute_result",
          "data": {
            "text/plain": [
              "array([[   1.,    1.,    1., 1000., 1000., 1000., 1000., 1000., 1000.,\n",
              "        1000.],\n",
              "       [   1.,    1.,    1., 1000., 1000., 1000., 1000., 1000., 1000.,\n",
              "        1000.],\n",
              "       [   1.,    1.,    1., 1000., 1000., 1000., 1000., 1000., 1000.,\n",
              "        1000.]])"
            ]
          },
          "metadata": {
            "tags": []
          },
          "execution_count": 112
        }
      ]
    },
    {
      "cell_type": "code",
      "metadata": {
        "id": "VhQeCgUWij11",
        "colab": {
          "base_uri": "https://localhost:8080/"
        },
        "outputId": "64949737-e313-4010-81f9-dc403a13eac1"
      },
      "source": [
        "#%% stack - Join a sequence of arrays along a new axis.\n",
        "#  https://docs.scipy.org/doc/numpy-1.13.0/reference/generated/numpy.stack.html#numpy.stack\n",
        "\n",
        "v1 = np.arange(1,5)\n",
        "v2 = np.arange(5,9)\n",
        "print(v1)\n",
        "print(v2)\n",
        "\n",
        "#%%\n",
        "vv = np.stack((v1,v2),axis=0)\n",
        "vh = np.stack((v1,v2),axis=1)\n",
        "print(vv)\n",
        "print(vh)\n",
        "print(vh.T)"
      ],
      "execution_count": null,
      "outputs": [
        {
          "output_type": "stream",
          "text": [
            "[1 2 3 4]\n",
            "[5 6 7 8]\n",
            "[[1 2 3 4]\n",
            " [5 6 7 8]]\n",
            "[[1 5]\n",
            " [2 6]\n",
            " [3 7]\n",
            " [4 8]]\n",
            "[[1 2 3 4]\n",
            " [5 6 7 8]]\n"
          ],
          "name": "stdout"
        }
      ]
    },
    {
      "cell_type": "code",
      "metadata": {
        "id": "N6Nuwwd8iqBa",
        "colab": {
          "base_uri": "https://localhost:8080/"
        },
        "outputId": "f5e7d2d2-02f8-473b-c620-dde5d5d6d28c"
      },
      "source": [
        "#%% stack in 3d\n",
        "a = np.reshape(np.arange(1,9),(2,4))\n",
        "b = np.reshape(np.arange(1,9),(2,4))+10\n",
        "print(a)\n",
        "print(b)\n",
        "#%%\n",
        "# one matrix on top of another\n",
        "#    ___________\n",
        "#   /          /\n",
        "#  /          /\n",
        "# /__________/\n",
        "#    ___________\n",
        "#   /          /\n",
        "#  /          /\n",
        "# /__________/\n",
        "\n",
        "ab0 = np.stack((a,b),axis=0)\n",
        "print(ab0)\n",
        "print(ab0.shape)\n",
        "print(ab0[0,:,:])"
      ],
      "execution_count": null,
      "outputs": [
        {
          "output_type": "stream",
          "text": [
            "[[1 2 3 4]\n",
            " [5 6 7 8]]\n",
            "[[11 12 13 14]\n",
            " [15 16 17 18]]\n",
            "[[[ 1  2  3  4]\n",
            "  [ 5  6  7  8]]\n",
            "\n",
            " [[11 12 13 14]\n",
            "  [15 16 17 18]]]\n",
            "(2, 2, 4)\n",
            "[[1 2 3 4]\n",
            " [5 6 7 8]]\n"
          ],
          "name": "stdout"
        }
      ]
    },
    {
      "cell_type": "code",
      "metadata": {
        "id": "I9RYhX2li1s1",
        "colab": {
          "base_uri": "https://localhost:8080/"
        },
        "outputId": "a0df3188-afed-4676-f246-50c4412b895e"
      },
      "source": [
        "#%% one matrix behind another\n",
        "#         ____________\n",
        "#        |            |\n",
        "#  ______|_____       |\n",
        "# |            |      |\n",
        "# |            |______|\n",
        "# |            |\n",
        "# |____________|\n",
        "\n",
        "ab1 = np.stack((a,b),axis=1)\n",
        "print(ab1)\n",
        "print(ab1.shape)\n",
        "print(ab1[0,:,:])"
      ],
      "execution_count": null,
      "outputs": [
        {
          "output_type": "stream",
          "text": [
            "[[[ 1  2  3  4]\n",
            "  [11 12 13 14]]\n",
            "\n",
            " [[ 5  6  7  8]\n",
            "  [15 16 17 18]]]\n",
            "(2, 2, 4)\n",
            "[[ 1  2  3  4]\n",
            " [11 12 13 14]]\n"
          ],
          "name": "stdout"
        }
      ]
    },
    {
      "cell_type": "code",
      "metadata": {
        "id": "mJnOEp8Ki4RY",
        "colab": {
          "base_uri": "https://localhost:8080/"
        },
        "outputId": "3983492c-fd9a-4a82-d4e7-8c7d5092b02a"
      },
      "source": [
        "#%% one matrix next to another\n",
        "#\n",
        "#    /|    /|\n",
        "#   / |   / |\n",
        "#  /  |  /  |\n",
        "# |   | |   |\n",
        "# |  /  |  /\n",
        "# | /   | /\n",
        "# |/    |/\n",
        "\n",
        "ab2 = np.stack((a,b),axis=2)\n",
        "print(ab2)\n",
        "print(ab2.shape)\n",
        "print(ab2[0,:,:])"
      ],
      "execution_count": null,
      "outputs": [
        {
          "output_type": "stream",
          "text": [
            "[[[ 1 11]\n",
            "  [ 2 12]\n",
            "  [ 3 13]\n",
            "  [ 4 14]]\n",
            "\n",
            " [[ 5 15]\n",
            "  [ 6 16]\n",
            "  [ 7 17]\n",
            "  [ 8 18]]]\n",
            "(2, 4, 2)\n",
            "[[ 1 11]\n",
            " [ 2 12]\n",
            " [ 3 13]\n",
            " [ 4 14]]\n"
          ],
          "name": "stdout"
        }
      ]
    },
    {
      "cell_type": "code",
      "metadata": {
        "id": "MyXFg5uTjC_z",
        "colab": {
          "base_uri": "https://localhost:8080/"
        },
        "outputId": "86a2f13b-32bc-44b7-a413-a1a94a427207"
      },
      "source": [
        "#%% Split an array into multiple sub-arrays. https://docs.scipy.org/doc/numpy-1.13.0/reference/generated/numpy.split.html#numpy.split\n",
        "\n",
        "x = np.arange(15)\n",
        "xs= np.split(x, 5)\n",
        "print(xs)"
      ],
      "execution_count": null,
      "outputs": [
        {
          "output_type": "stream",
          "text": [
            "[array([0, 1, 2]), array([3, 4, 5]), array([6, 7, 8]), array([ 9, 10, 11]), array([12, 13, 14])]\n"
          ],
          "name": "stdout"
        }
      ]
    },
    {
      "cell_type": "code",
      "metadata": {
        "id": "I6B2b8GUjGPc",
        "colab": {
          "base_uri": "https://localhost:8080/"
        },
        "outputId": "9ec1c8d3-982c-414f-948a-2e3bae0d968c"
      },
      "source": [
        "#%% split an array on those indexes\n",
        "x = np.arange(15)\n",
        "xs = np.split(x, [3, 5, 6, 10])\n",
        "print(xs)"
      ],
      "execution_count": null,
      "outputs": [
        {
          "output_type": "stream",
          "text": [
            "[array([0, 1, 2]), array([3, 4]), array([5]), array([6, 7, 8, 9]), array([10, 11, 12, 13, 14])]\n"
          ],
          "name": "stdout"
        }
      ]
    },
    {
      "cell_type": "code",
      "metadata": {
        "id": "MEslkTIbjI6g",
        "colab": {
          "base_uri": "https://localhost:8080/"
        },
        "outputId": "f48b1226-9395-4bb7-d6e8-a78bf51ff42f"
      },
      "source": [
        "#%% Tile\n",
        "b = np.array([0, 1, 2])\n",
        "print(np.tile(b, 4))"
      ],
      "execution_count": null,
      "outputs": [
        {
          "output_type": "stream",
          "text": [
            "[0 1 2 0 1 2 0 1 2 0 1 2]\n"
          ],
          "name": "stdout"
        }
      ]
    },
    {
      "cell_type": "code",
      "metadata": {
        "id": "KAlimobmjNDc",
        "colab": {
          "base_uri": "https://localhost:8080/"
        },
        "outputId": "1e53a6d8-ea8e-4790-d667-ed62dd074fd3"
      },
      "source": [
        "#%% tile 2x2\n",
        "#       |\n",
        "# ------|------\n",
        "#       |\n",
        "print(np.tile(b, (4, 2)))"
      ],
      "execution_count": null,
      "outputs": [
        {
          "output_type": "stream",
          "text": [
            "[[0 1 2 0 1 2]\n",
            " [0 1 2 0 1 2]\n",
            " [0 1 2 0 1 2]\n",
            " [0 1 2 0 1 2]]\n"
          ],
          "name": "stdout"
        }
      ]
    },
    {
      "cell_type": "code",
      "metadata": {
        "id": "kqzaMkVcjPnL",
        "colab": {
          "base_uri": "https://localhost:8080/"
        },
        "outputId": "6a76f942-955e-4efb-d8b4-01ed4a10adda"
      },
      "source": [
        "#%%\n",
        "c = np.array([ [0, 1, 2], [3, 4, 5] ])\n",
        "print(c)\n",
        "print(np.tile(c,3))"
      ],
      "execution_count": null,
      "outputs": [
        {
          "output_type": "stream",
          "text": [
            "[[0 1 2]\n",
            " [3 4 5]]\n",
            "[[0 1 2 0 1 2 0 1 2]\n",
            " [3 4 5 3 4 5 3 4 5]]\n"
          ],
          "name": "stdout"
        }
      ]
    },
    {
      "cell_type": "code",
      "metadata": {
        "id": "IJQRFzDQjSoW"
      },
      "source": [
        "#Vector, matrix broadcasting"
      ],
      "execution_count": null,
      "outputs": []
    },
    {
      "cell_type": "code",
      "metadata": {
        "id": "ZcqA27FejmSb",
        "colab": {
          "base_uri": "https://localhost:8080/"
        },
        "outputId": "59887905-603d-4db1-b7bd-2523c9e9efe8"
      },
      "source": [
        "#%% We will add the vector v to each row of the matrix x,\n",
        "# storing the result in the matrix y\n",
        "x = np.array([[1,2,3], [4,5,6], [7,8,9], [10, 11, 12]])\n",
        "v = np.array([1, 0, 1])\n",
        "y = np.empty_like(x)   # Create an empty matrix with the same shape as x\n",
        "\n",
        "#%% Add the vector v to each row of the matrix x with an explicit loop\n",
        "for i in range(4):\n",
        "    y[i, :] = x[i, :] + v\n",
        "# Now y is the following\n",
        "# [[ 2  2  4]\n",
        "#  [ 5  5  7]\n",
        "#  [ 8  8 10]\n",
        "#  [11 11 13]]\n",
        "print(y)"
      ],
      "execution_count": null,
      "outputs": [
        {
          "output_type": "stream",
          "text": [
            "[[ 2  2  4]\n",
            " [ 5  5  7]\n",
            " [ 8  8 10]\n",
            " [11 11 13]]\n"
          ],
          "name": "stdout"
        }
      ]
    },
    {
      "cell_type": "code",
      "metadata": {
        "id": "_1kEa-s5jnVq",
        "colab": {
          "base_uri": "https://localhost:8080/"
        },
        "outputId": "fd82a095-c90d-4da6-e168-9b96006dbcdf"
      },
      "source": [
        "#%% We will add the vector v to each row of the matrix x,\n",
        "# storing the result in the matrix y\n",
        "x = np.array([[1,2,3], [4,5,6], [7,8,9], [10, 11, 12]])\n",
        "v = np.array([1, 0, 1])\n",
        "vv = np.tile(v, (4, 1))  # Stack 4 copies of v on top of each other\n",
        "print(vv)                 # Prints \"[[1 0 1]\n",
        "                         #          [1 0 1]\n",
        "                         #          [1 0 1]\n",
        "                         #          [1 0 1]]\""
      ],
      "execution_count": null,
      "outputs": [
        {
          "output_type": "stream",
          "text": [
            "[[1 0 1]\n",
            " [1 0 1]\n",
            " [1 0 1]\n",
            " [1 0 1]]\n"
          ],
          "name": "stdout"
        }
      ]
    },
    {
      "cell_type": "code",
      "metadata": {
        "id": "Rly4WTUPju4R",
        "colab": {
          "base_uri": "https://localhost:8080/"
        },
        "outputId": "a28c8b84-ef5e-44a1-cd95-7bab000e16a8"
      },
      "source": [
        "#%%\n",
        "y = x + vv  # Add x and vv elementwise\n",
        "print(y)  # Prints \"[[ 2  2  4]\n",
        "         #          [ 5  5  7]\n",
        "         #          [ 8  8 10]\n",
        "         #          [11 11 13]]\""
      ],
      "execution_count": null,
      "outputs": [
        {
          "output_type": "stream",
          "text": [
            "[[ 2  2  4]\n",
            " [ 5  5  7]\n",
            " [ 8  8 10]\n",
            " [11 11 13]]\n"
          ],
          "name": "stdout"
        }
      ]
    },
    {
      "cell_type": "code",
      "metadata": {
        "id": "QQgBpg4QjxQV",
        "colab": {
          "base_uri": "https://localhost:8080/"
        },
        "outputId": "4801f106-dea9-4338-de9a-00986a5f17ae"
      },
      "source": [
        "#%% We will add the vector v to each row of the matrix x,\n",
        "# storing the result in the matrix y\n",
        "x = np.array([[1,2,3], [4,5,6], [7,8,9], [10, 11, 12]])\n",
        "v = np.array([1, 0, 1])\n",
        "y = x + v  # Add v to each row of x using broadcasting\n",
        "print(y)  # Prints \"[[ 2  2  4]\n",
        "         #          [ 5  5  7]\n",
        "         #          [ 8  8 10]\n",
        "         #          [11 11 13]]\""
      ],
      "execution_count": null,
      "outputs": [
        {
          "output_type": "stream",
          "text": [
            "[[ 2  2  4]\n",
            " [ 5  5  7]\n",
            " [ 8  8 10]\n",
            " [11 11 13]]\n"
          ],
          "name": "stdout"
        }
      ]
    },
    {
      "cell_type": "code",
      "metadata": {
        "id": "DSHx2jxpjyyu",
        "colab": {
          "base_uri": "https://localhost:8080/"
        },
        "outputId": "1ddd4f4b-44c2-4bee-d926-d5010f5dd12d"
      },
      "source": [
        "#%% Compute outer product of vectors\n",
        "v = np.array([1,2,3])  # v has shape (3,)\n",
        "w = np.array([4,5])    # w has shape (2,)\n",
        "# To compute an outer product, we first reshape v to be a column\n",
        "# vector of shape (3, 1); we can then broadcast it against w to yield\n",
        "# an output of shape (3, 2), which is the outer product of v and w:\n",
        "# [[ 4  5]\n",
        "#  [ 8 10]\n",
        "#  [12 15]]\n",
        "print(np.reshape(v, (3, 1)) * w)"
      ],
      "execution_count": null,
      "outputs": [
        {
          "output_type": "stream",
          "text": [
            "[[ 4  5]\n",
            " [ 8 10]\n",
            " [12 15]]\n"
          ],
          "name": "stdout"
        }
      ]
    },
    {
      "cell_type": "code",
      "metadata": {
        "id": "5YU4xotcj2Cr",
        "colab": {
          "base_uri": "https://localhost:8080/"
        },
        "outputId": "ef5e765d-37b3-4fd2-fa1c-90a5bf9b877c"
      },
      "source": [
        "#%% Add a vector to each row of a matrix\n",
        "x = np.array([[1,2,3], [4,5,6]])\n",
        "# x has shape (2, 3) and v has shape (3,) so they broadcast to (2, 3),\n",
        "# giving the following matrix:\n",
        "# [[2 4 6]\n",
        "#  [5 7 9]]\n",
        "print(x + v)"
      ],
      "execution_count": null,
      "outputs": [
        {
          "output_type": "stream",
          "text": [
            "[[2 2 4]\n",
            " [5 5 7]]\n"
          ],
          "name": "stdout"
        }
      ]
    },
    {
      "cell_type": "code",
      "metadata": {
        "colab": {
          "base_uri": "https://localhost:8080/"
        },
        "id": "pXsQs3JT4JjR",
        "outputId": "3bf5d7ac-ce5f-4d47-a893-7edd97bce81d"
      },
      "source": [
        "print(x)\n",
        "print(x.T)\n",
        "print(w)\n",
        "print(w.T)"
      ],
      "execution_count": null,
      "outputs": [
        {
          "output_type": "stream",
          "text": [
            "[[1 2 3]\n",
            " [4 5 6]]\n",
            "[[1 4]\n",
            " [2 5]\n",
            " [3 6]]\n",
            "[11 12]\n",
            "[11 12]\n"
          ],
          "name": "stdout"
        }
      ]
    },
    {
      "cell_type": "code",
      "metadata": {
        "id": "tUTvTKW6j3wZ",
        "colab": {
          "base_uri": "https://localhost:8080/"
        },
        "outputId": "875815f3-54d5-451d-9329-ed42df246c4f"
      },
      "source": [
        "# Add a vector to each column of a matrix\n",
        "# x has shape (2, 3) and w has shape (2,).\n",
        "# If we transpose x then it has shape (3, 2) and can be broadcast\n",
        "# against w to yield a result of shape (3, 2); transposing this result\n",
        "# yields the final result of shape (2, 3) which is the matrix x with\n",
        "# the vector w added to each column. Gives the following matrix:\n",
        "# [[ 5  6  7]\n",
        "#  [ 9 10 11]]\n",
        "print((x.T + w).T)\n",
        "# Another solution is to reshape w to be a row vector of shape (2, 1);\n",
        "# we can then broadcast it directly against x to produce the same\n",
        "# output.\n",
        "print(x + np.reshape(w, (2, 1)))"
      ],
      "execution_count": null,
      "outputs": [
        {
          "output_type": "stream",
          "text": [
            "[[12 13 14]\n",
            " [16 17 18]]\n",
            "[[12 13 14]\n",
            " [16 17 18]]\n"
          ],
          "name": "stdout"
        }
      ]
    },
    {
      "cell_type": "code",
      "metadata": {
        "id": "eKrCnA5tj6Om",
        "colab": {
          "base_uri": "https://localhost:8080/"
        },
        "outputId": "e00f577e-f35a-47df-da64-de822af5abf9"
      },
      "source": [
        "#%% Multiply a matrix by a constant:\n",
        "# x has shape (2, 3). Numpy treats scalars as arrays of shape ();\n",
        "# these can be broadcast together to shape (2, 3), producing the\n",
        "# following array:\n",
        "# [[ 2  4  6]\n",
        "#  [ 8 10 12]]\n",
        "print(x * 2)"
      ],
      "execution_count": null,
      "outputs": [
        {
          "output_type": "stream",
          "text": [
            "[[ 2  4  6]\n",
            " [ 8 10 12]]\n"
          ],
          "name": "stdout"
        }
      ]
    },
    {
      "cell_type": "code",
      "metadata": {
        "id": "iGDsaftJj9ov"
      },
      "source": [
        "#Utility functions"
      ],
      "execution_count": null,
      "outputs": []
    },
    {
      "cell_type": "code",
      "metadata": {
        "id": "ztAohgapkHov",
        "colab": {
          "base_uri": "https://localhost:8080/"
        },
        "outputId": "995f9888-e588-4046-e6ef-b095b7ef465c"
      },
      "source": [
        "#%% sorting\n",
        "a = np.array([[1,4],[3,1]])\n",
        "print(a)\n",
        "np.sort(a)  # sort along the last axis\n",
        "\n",
        "#%%\n",
        "np.sort(a, axis=None)     # sort the flattened array\n",
        "#%%\n",
        "np.sort(a, axis=1)  # sort along the first axis"
      ],
      "execution_count": null,
      "outputs": [
        {
          "output_type": "stream",
          "text": [
            "[[1 4]\n",
            " [3 1]]\n"
          ],
          "name": "stdout"
        },
        {
          "output_type": "execute_result",
          "data": {
            "text/plain": [
              "array([[1, 4],\n",
              "       [1, 3]])"
            ]
          },
          "metadata": {
            "tags": []
          },
          "execution_count": 131
        }
      ]
    },
    {
      "cell_type": "code",
      "metadata": {
        "id": "6vo40Qj1kKEn",
        "colab": {
          "base_uri": "https://localhost:8080/"
        },
        "outputId": "c01b5413-491f-4734-b984-f08438776bfe"
      },
      "source": [
        "#%% argsort\n",
        "\n",
        "x = np.array([3, 1, 2])\n",
        "np.argsort(x)"
      ],
      "execution_count": null,
      "outputs": [
        {
          "output_type": "execute_result",
          "data": {
            "text/plain": [
              "array([1, 2, 0])"
            ]
          },
          "metadata": {
            "tags": []
          },
          "execution_count": 117
        }
      ]
    },
    {
      "cell_type": "code",
      "metadata": {
        "id": "Wpw65-PFkPDe",
        "colab": {
          "base_uri": "https://localhost:8080/"
        },
        "outputId": "38d05dce-59a7-4637-ccfa-84f92b2f3906"
      },
      "source": [
        "#%%\n",
        "\n",
        "x = np.array([[0, 3], [2, 2]])\n",
        "print(x)\n",
        "ind = np.argsort(x, axis=0)  # sorts along first axis (down)\n",
        "ind\n",
        "\n",
        "\n",
        "np.take_along_axis(x, ind, axis=0)  # same as np.sort(x, axis=0)\n"
      ],
      "execution_count": null,
      "outputs": [
        {
          "output_type": "stream",
          "text": [
            "[[0 3]\n",
            " [2 2]]\n"
          ],
          "name": "stdout"
        },
        {
          "output_type": "execute_result",
          "data": {
            "text/plain": [
              "array([[0, 2],\n",
              "       [2, 3]])"
            ]
          },
          "metadata": {
            "tags": []
          },
          "execution_count": 132
        }
      ]
    },
    {
      "cell_type": "code",
      "metadata": {
        "id": "0xpfgYJ-kRnv",
        "colab": {
          "base_uri": "https://localhost:8080/"
        },
        "outputId": "1025615b-caf7-4084-d483-5d149cf5e552"
      },
      "source": [
        "#%%\n",
        "\n",
        "a = np.arange(6).reshape(2,3) + 10\n",
        "\n",
        "#%%\n",
        "np.argmax(a)\n",
        "\n",
        "np.argmax(a, axis=0)\n",
        "\n",
        "np.argmax(a, axis=1)"
      ],
      "execution_count": null,
      "outputs": [
        {
          "output_type": "execute_result",
          "data": {
            "text/plain": [
              "array([2, 2])"
            ]
          },
          "metadata": {
            "tags": []
          },
          "execution_count": 133
        }
      ]
    },
    {
      "cell_type": "code",
      "metadata": {
        "id": "6px1kRMukX29"
      },
      "source": [
        ""
      ],
      "execution_count": null,
      "outputs": []
    },
    {
      "cell_type": "code",
      "metadata": {
        "id": "u8IZf8i2m1Lc"
      },
      "source": [
        ""
      ],
      "execution_count": null,
      "outputs": []
    },
    {
      "cell_type": "code",
      "metadata": {
        "id": "1Cvgg_SZm5Y0"
      },
      "source": [
        ""
      ],
      "execution_count": null,
      "outputs": []
    }
  ]
}