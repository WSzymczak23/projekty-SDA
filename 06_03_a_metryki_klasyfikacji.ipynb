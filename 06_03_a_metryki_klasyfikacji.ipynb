{
  "nbformat": 4,
  "nbformat_minor": 0,
  "metadata": {
    "kernelspec": {
      "display_name": "clas_venv",
      "language": "python",
      "name": "clas_venv"
    },
    "language_info": {
      "codemirror_mode": {
        "name": "ipython",
        "version": 3
      },
      "file_extension": ".py",
      "mimetype": "text/x-python",
      "name": "python",
      "nbconvert_exporter": "python",
      "pygments_lexer": "ipython3",
      "version": "3.6.9"
    },
    "colab": {
      "name": "06.03 a metryki klasyfikacji.ipynb",
      "provenance": [],
      "collapsed_sections": [
        "3Y6fcinkX4Bi",
        "gcIZ3w-LX4Bj"
      ],
      "include_colab_link": true
    }
  },
  "cells": [
    {
      "cell_type": "markdown",
      "metadata": {
        "id": "view-in-github",
        "colab_type": "text"
      },
      "source": [
        "<a href=\"https://colab.research.google.com/github/WSzymczak23/projekty-SDA/blob/main/06_03_a_metryki_klasyfikacji.ipynb\" target=\"_parent\"><img src=\"https://colab.research.google.com/assets/colab-badge.svg\" alt=\"Open In Colab\"/></a>"
      ]
    },
    {
      "cell_type": "markdown",
      "metadata": {
        "id": "-g4zNhPSX4BW"
      },
      "source": [
        "# Metryki klasyfikacji\n",
        "\n",
        "Aby poznać popularne metody oceny klasyfikatorów wygenerujemy sobie przykładowe sekwencje klas przykładów. Wykorzystamy w tym celu bibliotekę numpy oraz generator liczb losowych z rozkładu normalnego."
      ]
    },
    {
      "cell_type": "code",
      "metadata": {
        "collapsed": true,
        "id": "oeUhNVQ3X4Bb"
      },
      "source": [
        "import numpy as np"
      ],
      "execution_count": null,
      "outputs": []
    },
    {
      "cell_type": "code",
      "metadata": {
        "collapsed": true,
        "id": "GHDSIy3hX4Bc"
      },
      "source": [
        "from numpy.random import RandomState"
      ],
      "execution_count": null,
      "outputs": []
    },
    {
      "cell_type": "code",
      "metadata": {
        "id": "-zS2jGUxX4Bc",
        "colab": {
          "base_uri": "https://localhost:8080/"
        },
        "outputId": "98c1e65e-b94c-45bd-b4c2-0799a0804029"
      },
      "source": [
        "random = RandomState(30)\n",
        "\n",
        "random_1 = random.normal(loc=0.0, size=200) #loc to średnia - maksimum krzywej gaussa\n",
        "random_2 = random.normal(loc=0.5, size=200)\n",
        "y_test = [1 if i >= 0 else 0 for i in random_1]  #tworzenie macierzy 0, 1\n",
        "y_pred = [1 if i >= 0 else 0 for i in random_2]\n",
        "print(y_test[:10])\n",
        "print(y_pred[:10])"
      ],
      "execution_count": null,
      "outputs": [
        {
          "output_type": "stream",
          "text": [
            "[0, 1, 0, 1, 0, 1, 0, 1, 1, 0]\n",
            "[1, 1, 0, 1, 1, 0, 1, 0, 1, 0]\n"
          ],
          "name": "stdout"
        }
      ]
    },
    {
      "cell_type": "markdown",
      "metadata": {
        "id": "sbK2vwiXX4Be"
      },
      "source": [
        "## Macierz błędów\n",
        "\n",
        "Pierwszym krokiem będzie stworzenie macierzy błędów, czyli wyznaczenia true postives, true negatives, false positives i false negatives."
      ]
    },
    {
      "cell_type": "code",
      "metadata": {
        "collapsed": true,
        "id": "2ckQtwb3X4Be"
      },
      "source": [
        "def confusion_matrix(truth, prediction):\n",
        "    tp, tn, fp, fn = 0, 0, 0, 0\n",
        "    for label, predicted in zip(truth, prediction):\n",
        "        if label == predicted:\n",
        "            if predicted:\n",
        "                tp += 1\n",
        "            else:\n",
        "                tn += 1\n",
        "        else:\n",
        "            if predicted:\n",
        "                fp += 1\n",
        "            else:\n",
        "                fn += 1\n",
        "    return tp, tn, fp, fn"
      ],
      "execution_count": null,
      "outputs": []
    },
    {
      "cell_type": "code",
      "metadata": {
        "id": "3qzgKEBzX4Be",
        "colab": {
          "base_uri": "https://localhost:8080/"
        },
        "outputId": "37c9c101-7530-4da6-858c-7079299e6396"
      },
      "source": [
        "# zastosowanie dla \n",
        "confusion_matrix(y_test, y_pred)"
      ],
      "execution_count": null,
      "outputs": [
        {
          "output_type": "execute_result",
          "data": {
            "text/plain": [
              "(98, 60, 99, 43)"
            ]
          },
          "metadata": {
            "tags": []
          },
          "execution_count": 11
        }
      ]
    },
    {
      "cell_type": "markdown",
      "metadata": {
        "id": "wUCbfBRoX4Bf"
      },
      "source": [
        "## Accuracy\n",
        "\n",
        "Pierwszą miarą jest miara dokładności "
      ]
    },
    {
      "cell_type": "code",
      "metadata": {
        "collapsed": true,
        "id": "PiLmzGbzX4Bf"
      },
      "source": [
        "def accuracy(truth, prediction):\n",
        "    tp, tn, fp, fn = confusion_matrix(truth, prediction)\n",
        "    return (tp + tn) / (tp + tn + fp + fn)"
      ],
      "execution_count": null,
      "outputs": []
    },
    {
      "cell_type": "markdown",
      "metadata": {
        "id": "uzN5wkknX4Bf"
      },
      "source": [
        "Wynik dla analizowanych predykcji"
      ]
    },
    {
      "cell_type": "code",
      "metadata": {
        "id": "RHNHY4LjX4Bf",
        "colab": {
          "base_uri": "https://localhost:8080/"
        },
        "outputId": "d9ed7f80-5b7e-499b-d143-45105f5327b0"
      },
      "source": [
        "accuracy(y_test, y_pred)"
      ],
      "execution_count": null,
      "outputs": [
        {
          "output_type": "execute_result",
          "data": {
            "text/plain": [
              "0.52"
            ]
          },
          "metadata": {
            "tags": []
          },
          "execution_count": 16
        }
      ]
    },
    {
      "cell_type": "markdown",
      "metadata": {
        "id": "EDgmQCqzX4Bg"
      },
      "source": [
        "Z accuracy związany jest problem - zachowuje się źle przy niezbalansowanych zbiorach. Wygenerujemy zbiór, w którym większość przykładów będzie pozytywna."
      ]
    },
    {
      "cell_type": "code",
      "metadata": {
        "id": "AiSYDwOZX4Bg",
        "colab": {
          "base_uri": "https://localhost:8080/"
        },
        "outputId": "e7a8918e-2cf0-49b4-c51c-9713e0439be2"
      },
      "source": [
        "# żeby większość była 1\n",
        "random = RandomState(13)\n",
        "\n",
        "random_3 = random.normal(loc=-1, scale=0.5, size=100)\n",
        "y_extr = [1 if i >= 0 else 0 for i in random_3]\n",
        "sum(y_extr)"
      ],
      "execution_count": null,
      "outputs": [
        {
          "output_type": "execute_result",
          "data": {
            "text/plain": [
              "3"
            ]
          },
          "metadata": {
            "tags": []
          },
          "execution_count": 8
        }
      ]
    },
    {
      "cell_type": "code",
      "metadata": {
        "id": "9IEDcJ_sX4Bg",
        "colab": {
          "base_uri": "https://localhost:8080/"
        },
        "outputId": "43065bc2-97ff-4226-f82d-2d02ec58573c"
      },
      "source": [
        "y_extr[:20], len(y_extr)"
      ],
      "execution_count": null,
      "outputs": [
        {
          "output_type": "execute_result",
          "data": {
            "text/plain": [
              "([0, 0, 0, 0, 0, 0, 0, 0, 0, 0, 0, 0, 0, 0, 0, 0, 0, 1, 0, 0], 100)"
            ]
          },
          "metadata": {
            "tags": []
          },
          "execution_count": 9
        }
      ]
    },
    {
      "cell_type": "markdown",
      "metadata": {
        "id": "IYrmBdMPX4Bh"
      },
      "source": [
        "Nasz \"klasyfikator\" ma stosunkowo niską dokładność."
      ]
    },
    {
      "cell_type": "code",
      "metadata": {
        "id": "pVZXgVBDX4Bh",
        "colab": {
          "base_uri": "https://localhost:8080/"
        },
        "outputId": "7828effb-0fba-4a2f-fe05-9e6b0d1206d3"
      },
      "source": [
        "accuracy(y_extr, y_pred)"
      ],
      "execution_count": null,
      "outputs": [
        {
          "output_type": "execute_result",
          "data": {
            "text/plain": [
              "0.38"
            ]
          },
          "metadata": {
            "tags": []
          },
          "execution_count": 10
        }
      ]
    },
    {
      "cell_type": "markdown",
      "metadata": {
        "id": "LFio7HseX4Bh"
      },
      "source": [
        "Zakładając z góry, że wszystkie przykłady są pozytywne uzyskujemy bardzo wysoką dokładność. Takie zachowanie jest w wielu przypadkach niepożądane - przypuśćmy, że próbujemy stworzyć klasyfikator do komórek rakowych, gdzie większość przypadków jest negatywna - dla takiego podejścia, zwrócenie informacji że wszystkie przypadki są negatywne da bardzo wysoką dokładność."
      ]
    },
    {
      "cell_type": "code",
      "metadata": {
        "id": "F4-CYdlRX4Bh",
        "colab": {
          "base_uri": "https://localhost:8080/"
        },
        "outputId": "cfe5e45a-0d66-43a6-b2bb-e2ff9dabbffe"
      },
      "source": [
        "accuracy(y_extr, 100 * [0])"
      ],
      "execution_count": null,
      "outputs": [
        {
          "output_type": "execute_result",
          "data": {
            "text/plain": [
              "0.97"
            ]
          },
          "metadata": {
            "tags": []
          },
          "execution_count": 11
        }
      ]
    },
    {
      "cell_type": "markdown",
      "metadata": {
        "id": "3Y6fcinkX4Bi"
      },
      "source": [
        "## Recall\n",
        "\n",
        "Ta miara z kolei mówi o tym, jaką część dodatnich wyników wykrył klasyfikator"
      ]
    },
    {
      "cell_type": "code",
      "metadata": {
        "collapsed": true,
        "id": "TaxfyUQyX4Bi"
      },
      "source": [
        "def recall(truth, prediction):\n",
        "    tp, tn, fp, fn = confusion_matrix(truth, prediction)\n",
        "    return tp /(tp + fn)"
      ],
      "execution_count": null,
      "outputs": []
    },
    {
      "cell_type": "code",
      "metadata": {
        "id": "2hCQq7SIX4Bi",
        "colab": {
          "base_uri": "https://localhost:8080/"
        },
        "outputId": "3b9dc413-e418-416b-ec4e-33fe035b4d24"
      },
      "source": [
        "recall(y_test, y_pred)"
      ],
      "execution_count": null,
      "outputs": [
        {
          "output_type": "execute_result",
          "data": {
            "text/plain": [
              "0.673469387755102"
            ]
          },
          "metadata": {
            "tags": []
          },
          "execution_count": 13
        }
      ]
    },
    {
      "cell_type": "code",
      "metadata": {
        "id": "8qLaaDDYX4Bi",
        "colab": {
          "base_uri": "https://localhost:8080/"
        },
        "outputId": "e91a9297-7b97-4cff-9c20-fc9e106a13e2"
      },
      "source": [
        "recall(y_extr, y_pred)"
      ],
      "execution_count": null,
      "outputs": [
        {
          "output_type": "execute_result",
          "data": {
            "text/plain": [
              "0.6666666666666666"
            ]
          },
          "metadata": {
            "tags": []
          },
          "execution_count": 14
        }
      ]
    },
    {
      "cell_type": "code",
      "metadata": {
        "id": "dZAHStF0X4Bi",
        "colab": {
          "base_uri": "https://localhost:8080/"
        },
        "outputId": "327379d8-8e38-468d-f097-0ea5a75bbd6d"
      },
      "source": [
        "recall(y_extr, 100 * [0])"
      ],
      "execution_count": null,
      "outputs": [
        {
          "output_type": "execute_result",
          "data": {
            "text/plain": [
              "0.0"
            ]
          },
          "metadata": {
            "tags": []
          },
          "execution_count": 15
        }
      ]
    },
    {
      "cell_type": "code",
      "metadata": {
        "id": "0t9u4x7kX4Bj",
        "colab": {
          "base_uri": "https://localhost:8080/"
        },
        "outputId": "7e1c0dca-4e58-4032-fa2b-0e68b0eecc00"
      },
      "source": [
        "recall(y_extr, 100 * [1])"
      ],
      "execution_count": null,
      "outputs": [
        {
          "output_type": "execute_result",
          "data": {
            "text/plain": [
              "1.0"
            ]
          },
          "metadata": {
            "tags": []
          },
          "execution_count": 16
        }
      ]
    },
    {
      "cell_type": "code",
      "metadata": {
        "id": "EPLmJ-BdX4Bj",
        "colab": {
          "base_uri": "https://localhost:8080/"
        },
        "outputId": "e1aac775-929c-4429-c25d-bff1c76ca22e"
      },
      "source": [
        "accuracy(y_extr, 100 * [1])"
      ],
      "execution_count": null,
      "outputs": [
        {
          "output_type": "execute_result",
          "data": {
            "text/plain": [
              "0.03"
            ]
          },
          "metadata": {
            "tags": []
          },
          "execution_count": 17
        }
      ]
    },
    {
      "cell_type": "markdown",
      "metadata": {
        "id": "gcIZ3w-LX4Bj"
      },
      "source": [
        "## Precision\n",
        "\n",
        "Jest to miara, która skupia się tylko na przykładach pozytywnych - mówi jaka część wyników wskazanych przez klasyfikator jako dodatnie jest rzeczywiście dodatnia."
      ]
    },
    {
      "cell_type": "code",
      "metadata": {
        "collapsed": true,
        "id": "tGp1kexNX4Bj"
      },
      "source": [
        "def precision(truth, prediction):\n",
        "    tp, tn, fp, fn = confusion_matrix(truth, prediction)\n",
        "    return tp / (tp + fp)\n",
        "    "
      ],
      "execution_count": null,
      "outputs": []
    },
    {
      "cell_type": "code",
      "metadata": {
        "id": "ayRT4VFEX4Bj",
        "colab": {
          "base_uri": "https://localhost:8080/"
        },
        "outputId": "43f2a562-5c27-41aa-f549-4c1a6369e4f1"
      },
      "source": [
        "precision(y_test, y_pred)"
      ],
      "execution_count": null,
      "outputs": [
        {
          "output_type": "execute_result",
          "data": {
            "text/plain": [
              "0.5238095238095238"
            ]
          },
          "metadata": {
            "tags": []
          },
          "execution_count": 19
        }
      ]
    },
    {
      "cell_type": "code",
      "metadata": {
        "id": "BuaXpEFzX4Bk",
        "colab": {
          "base_uri": "https://localhost:8080/"
        },
        "outputId": "c4f414ce-1d45-40d8-ec31-cc9bd36d2296"
      },
      "source": [
        "precision(y_extr, y_pred)"
      ],
      "execution_count": null,
      "outputs": [
        {
          "output_type": "execute_result",
          "data": {
            "text/plain": [
              "0.031746031746031744"
            ]
          },
          "metadata": {
            "tags": []
          },
          "execution_count": 20
        }
      ]
    },
    {
      "cell_type": "code",
      "metadata": {
        "scrolled": true,
        "id": "kKHVv7YNX4Bk",
        "colab": {
          "base_uri": "https://localhost:8080/"
        },
        "outputId": "7e50e680-f5e5-4750-f254-d588ccf334ec"
      },
      "source": [
        "precision(y_extr, 100 * [1])"
      ],
      "execution_count": null,
      "outputs": [
        {
          "output_type": "execute_result",
          "data": {
            "text/plain": [
              "0.03"
            ]
          },
          "metadata": {
            "tags": []
          },
          "execution_count": 21
        }
      ]
    },
    {
      "cell_type": "code",
      "metadata": {
        "id": "TmnA6YKvX4Bk",
        "colab": {
          "base_uri": "https://localhost:8080/",
          "height": 262
        },
        "outputId": "bdabce01-daeb-4b1f-8754-1415d25defb5"
      },
      "source": [
        "precision(y_extr, 100 * [0])"
      ],
      "execution_count": null,
      "outputs": [
        {
          "output_type": "error",
          "ename": "ZeroDivisionError",
          "evalue": "ignored",
          "traceback": [
            "\u001b[0;31m---------------------------------------------------------------------------\u001b[0m",
            "\u001b[0;31mZeroDivisionError\u001b[0m                         Traceback (most recent call last)",
            "\u001b[0;32m<ipython-input-22-0c5be700c650>\u001b[0m in \u001b[0;36m<module>\u001b[0;34m()\u001b[0m\n\u001b[0;32m----> 1\u001b[0;31m \u001b[0mprecision\u001b[0m\u001b[0;34m(\u001b[0m\u001b[0my_extr\u001b[0m\u001b[0;34m,\u001b[0m \u001b[0;36m100\u001b[0m \u001b[0;34m*\u001b[0m \u001b[0;34m[\u001b[0m\u001b[0;36m0\u001b[0m\u001b[0;34m]\u001b[0m\u001b[0;34m)\u001b[0m\u001b[0;34m\u001b[0m\u001b[0;34m\u001b[0m\u001b[0m\n\u001b[0m",
            "\u001b[0;32m<ipython-input-18-f7bdbf661c0c>\u001b[0m in \u001b[0;36mprecision\u001b[0;34m(truth, prediction)\u001b[0m\n\u001b[1;32m      1\u001b[0m \u001b[0;32mdef\u001b[0m \u001b[0mprecision\u001b[0m\u001b[0;34m(\u001b[0m\u001b[0mtruth\u001b[0m\u001b[0;34m,\u001b[0m \u001b[0mprediction\u001b[0m\u001b[0;34m)\u001b[0m\u001b[0;34m:\u001b[0m\u001b[0;34m\u001b[0m\u001b[0;34m\u001b[0m\u001b[0m\n\u001b[1;32m      2\u001b[0m     \u001b[0mtp\u001b[0m\u001b[0;34m,\u001b[0m \u001b[0mtn\u001b[0m\u001b[0;34m,\u001b[0m \u001b[0mfp\u001b[0m\u001b[0;34m,\u001b[0m \u001b[0mfn\u001b[0m \u001b[0;34m=\u001b[0m \u001b[0mconfusion_matrix\u001b[0m\u001b[0;34m(\u001b[0m\u001b[0mtruth\u001b[0m\u001b[0;34m,\u001b[0m \u001b[0mprediction\u001b[0m\u001b[0;34m)\u001b[0m\u001b[0;34m\u001b[0m\u001b[0;34m\u001b[0m\u001b[0m\n\u001b[0;32m----> 3\u001b[0;31m     \u001b[0;32mreturn\u001b[0m \u001b[0mtp\u001b[0m \u001b[0;34m/\u001b[0m \u001b[0;34m(\u001b[0m\u001b[0mtp\u001b[0m \u001b[0;34m+\u001b[0m \u001b[0mfp\u001b[0m\u001b[0;34m)\u001b[0m\u001b[0;34m\u001b[0m\u001b[0;34m\u001b[0m\u001b[0m\n\u001b[0m\u001b[1;32m      4\u001b[0m \u001b[0;34m\u001b[0m\u001b[0m\n",
            "\u001b[0;31mZeroDivisionError\u001b[0m: division by zero"
          ]
        }
      ]
    },
    {
      "cell_type": "markdown",
      "metadata": {
        "id": "g9SoQbRPX4Bk"
      },
      "source": [
        "# F1 Score\n",
        "\n",
        "Jest to średnia harmoniczna precyzji i czułości. Ogólnie - im wyższy F1-score tym lepszy jest klasyfikator."
      ]
    },
    {
      "cell_type": "code",
      "metadata": {
        "collapsed": true,
        "id": "BCBFG7u5X4Bl"
      },
      "source": [
        "def f1score(truth, prediction):\n",
        "    prec = precision(truth, prediction)\n",
        "    rec = recall(truth, prediction)\n",
        "    return 2 * prec * rec / (prec + rec)"
      ],
      "execution_count": null,
      "outputs": []
    },
    {
      "cell_type": "code",
      "metadata": {
        "id": "u9GOt__2X4Bl"
      },
      "source": [
        "f1score(y_test, y_pred)"
      ],
      "execution_count": null,
      "outputs": []
    },
    {
      "cell_type": "code",
      "metadata": {
        "id": "lQ8ev5wnX4Bl"
      },
      "source": [
        "f1score(y_extr, y_pred)"
      ],
      "execution_count": null,
      "outputs": []
    },
    {
      "cell_type": "code",
      "metadata": {
        "id": "vWnpZckLX4Bl"
      },
      "source": [
        "f1score(y_extr, 100 * [1])"
      ],
      "execution_count": null,
      "outputs": []
    },
    {
      "cell_type": "code",
      "metadata": {
        "id": "EXDwE1UtX4Bl"
      },
      "source": [
        "f1score(y_extr, 100 * [0])"
      ],
      "execution_count": null,
      "outputs": []
    },
    {
      "cell_type": "code",
      "metadata": {
        "collapsed": true,
        "id": "i6P938alX4Bm"
      },
      "source": [
        ""
      ],
      "execution_count": null,
      "outputs": []
    },
    {
      "cell_type": "markdown",
      "metadata": {
        "id": "AnZA6fKdX4Bm"
      },
      "source": [
        "Zadanie: Sprawdzamy analogiczne funkcje z modułu scikit-learn"
      ]
    },
    {
      "cell_type": "code",
      "metadata": {
        "collapsed": true,
        "id": "ebrOFnF2X4Bm"
      },
      "source": [
        "from sklearn.metrics import f1_score"
      ],
      "execution_count": null,
      "outputs": []
    },
    {
      "cell_type": "code",
      "metadata": {
        "id": "qNvRcsxGX4Bm"
      },
      "source": [
        "f1_score(y_test, y_pred)"
      ],
      "execution_count": null,
      "outputs": []
    },
    {
      "cell_type": "code",
      "metadata": {
        "id": "1DF7bZPBX4Bm"
      },
      "source": [
        "f1_score(y_extr, y_pred)"
      ],
      "execution_count": null,
      "outputs": []
    },
    {
      "cell_type": "code",
      "metadata": {
        "id": "nL8EddARX4Bn"
      },
      "source": [
        "f1_score(y_extr, 100 * [1])"
      ],
      "execution_count": null,
      "outputs": []
    },
    {
      "cell_type": "code",
      "metadata": {
        "id": "Xa0EbfAdX4Bn"
      },
      "source": [
        "f1_score(y_extr, 100 * [0])"
      ],
      "execution_count": null,
      "outputs": []
    },
    {
      "cell_type": "markdown",
      "metadata": {
        "id": "572whrC_Ocfk"
      },
      "source": [
        "zadanie"
      ]
    },
    {
      "cell_type": "code",
      "metadata": {
        "id": "amjbelXJOe9G"
      },
      "source": [
        "test_y =[0, 1, 1, 0, 0, 0, 0, 1, 1, 1, 1, 0, 0 , 0 , 0, 1]\n",
        "pred_y =[0, 1, 1, 0, 0 , 0, 0, 1, 0, 0 , 0, 1, 1, 1, 0, 1]"
      ],
      "execution_count": null,
      "outputs": []
    },
    {
      "cell_type": "code",
      "metadata": {
        "id": "-CyTuUX7PQKg"
      },
      "source": [
        "from sklearn.metrics import precision_score, recall_score, confusion_matrix, accuracy_score, f1_score"
      ],
      "execution_count": null,
      "outputs": []
    },
    {
      "cell_type": "code",
      "metadata": {
        "colab": {
          "base_uri": "https://localhost:8080/"
        },
        "id": "sRX_EZUARUeJ",
        "outputId": "8b7792d4-8a61-4f5a-c1fc-107432f13fba"
      },
      "source": [
        "confusion_matrix(test_y, pred_y)\n",
        "confusion_matrix()"
      ],
      "execution_count": null,
      "outputs": [
        {
          "output_type": "execute_result",
          "data": {
            "text/plain": [
              "array([[6, 3],\n",
              "       [3, 4]])"
            ]
          },
          "metadata": {
            "tags": []
          },
          "execution_count": 15
        }
      ]
    },
    {
      "cell_type": "code",
      "metadata": {
        "colab": {
          "base_uri": "https://localhost:8080/"
        },
        "id": "yyZdNVABPV53",
        "outputId": "2425b046-d924-414d-c7b8-d8b9a2e19330"
      },
      "source": [
        "precision_score(test_y, pred_y)"
      ],
      "execution_count": null,
      "outputs": [
        {
          "output_type": "execute_result",
          "data": {
            "text/plain": [
              "0.5714285714285714"
            ]
          },
          "metadata": {
            "tags": []
          },
          "execution_count": 17
        }
      ]
    },
    {
      "cell_type": "code",
      "metadata": {
        "colab": {
          "base_uri": "https://localhost:8080/"
        },
        "id": "qOrQX4DpP4Fl",
        "outputId": "bf619a1b-049f-4d4a-eedf-0daf8bea87ba"
      },
      "source": [
        "recall_score(test_y, pred_y)"
      ],
      "execution_count": null,
      "outputs": [
        {
          "output_type": "execute_result",
          "data": {
            "text/plain": [
              "0.5714285714285714"
            ]
          },
          "metadata": {
            "tags": []
          },
          "execution_count": 18
        }
      ]
    },
    {
      "cell_type": "code",
      "metadata": {
        "colab": {
          "base_uri": "https://localhost:8080/"
        },
        "id": "VuZMfFe6Pad2",
        "outputId": "ed3aa279-cc98-4173-8ed8-6d8ef4a70d1a"
      },
      "source": [
        "accuracy_score(test_y, pred_y)"
      ],
      "execution_count": null,
      "outputs": [
        {
          "output_type": "execute_result",
          "data": {
            "text/plain": [
              "0.625"
            ]
          },
          "metadata": {
            "tags": []
          },
          "execution_count": 20
        }
      ]
    },
    {
      "cell_type": "code",
      "metadata": {
        "colab": {
          "base_uri": "https://localhost:8080/"
        },
        "id": "n21HtIpES8_S",
        "outputId": "9ce24faa-ed2b-4746-e44b-87318cdd6c21"
      },
      "source": [
        "f1_score(test_y, pred_y)"
      ],
      "execution_count": null,
      "outputs": [
        {
          "output_type": "execute_result",
          "data": {
            "text/plain": [
              "0.5714285714285714"
            ]
          },
          "metadata": {
            "tags": []
          },
          "execution_count": 22
        }
      ]
    },
    {
      "cell_type": "code",
      "metadata": {
        "id": "7swyyLyuTeuG"
      },
      "source": [
        ""
      ],
      "execution_count": null,
      "outputs": []
    }
  ]
}