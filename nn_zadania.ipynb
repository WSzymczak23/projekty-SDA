{
  "nbformat": 4,
  "nbformat_minor": 0,
  "metadata": {
    "colab": {
      "name": "nn_zadania.ipynb",
      "provenance": [],
      "collapsed_sections": [],
      "toc_visible": true,
      "include_colab_link": true
    },
    "kernelspec": {
      "name": "python3",
      "display_name": "Python 3"
    },
    "language_info": {
      "name": "python"
    }
  },
  "cells": [
    {
      "cell_type": "markdown",
      "metadata": {
        "id": "view-in-github",
        "colab_type": "text"
      },
      "source": [
        "<a href=\"https://colab.research.google.com/github/WSzymczak23/projekty-SDA/blob/main/nn_zadania.ipynb\" target=\"_parent\"><img src=\"https://colab.research.google.com/assets/colab-badge.svg\" alt=\"Open In Colab\"/></a>"
      ]
    },
    {
      "cell_type": "markdown",
      "metadata": {
        "id": "WzuWovouz887"
      },
      "source": [
        "Zadanie 1 - Forward propagation"
      ]
    },
    {
      "cell_type": "code",
      "metadata": {
        "id": "ZWHVrBWpwupT"
      },
      "source": [
        "### Przygotowanie ###\n",
        "import numpy as np99999\n",
        "input_data = np.array([3, 5])\n",
        "#####################\n",
        "\n",
        "weights = {\n",
        "    'node_0': np.array([____, ____]), \n",
        "    'node_1': np.array([____, ____]), \n",
        "    'output': np.array([____, ____])\n",
        "}\n",
        "\n",
        "# Liczymy wartość w węźle 0\n",
        "node_0_value = (____ * ____).____\n",
        "\n",
        "# Liczymy wartość w węźle 1\n",
        "node_1_value = ____\n",
        "\n",
        "# Wartości węzłów układamy w warstwę\n",
        "hidden_layer_outputs = np.array([node_0_value, node_1_value])\n",
        "\n",
        "# Liczymy output\n",
        "output = ____\n",
        "\n",
        "# Wyświetlamy output\n",
        "print(output)"
      ],
      "execution_count": null,
      "outputs": []
    },
    {
      "cell_type": "markdown",
      "metadata": {
        "id": "i6bhfqFOz91a"
      },
      "source": [
        "Zadanie 2 - Funkcja aktywacji (ReLU)"
      ]
    },
    {
      "cell_type": "code",
      "metadata": {
        "id": "f9CaDqJm0PqJ"
      },
      "source": [
        "### Przygotowanie ###\n",
        "import numpy as np\n",
        "input_data = np.array([3, 5])\n",
        "weights = {\n",
        "    'node_0': np.array([2, 4]), \n",
        "    'node_1': np.array([4, -5]), \n",
        "    'output': np.array([2, 7])\n",
        "}\n",
        "#####################\n",
        "\n",
        "\n",
        "def relu(input):\n",
        "    '''Define relu activation function'''\n",
        "    # Liczymy wartość funkcji dla argumentu input\n",
        "    output = max(____, ____)\n",
        "    \n",
        "    # Zwracamy wynik\n",
        "    return(output)\n",
        "\n",
        "# Liczymy wartość w węźle 0\n",
        "node_0_input = (input_data * weights['node_0']).sum()\n",
        "node_0_output = ____\n",
        "\n",
        "# Liczymy wartość w węźle 1\n",
        "node_1_input = (input_data * weights['node_1']).sum()\n",
        "node_1_output = ____\n",
        "\n",
        "# Obliczone wartość układamy w warstwie\n",
        "hidden_layer_outputs = np.array([node_0_output, node_1_output])\n",
        "\n",
        "# Liczymy wartość wyjściową modelu (nie musimy przykładać funkcji aktywacji \n",
        "# w wyjściowej, to zależy od zastosowania)\n",
        "model_output = (hidden_layer_outputs * weights['output']).sum()\n",
        "\n",
        "# Wyświetlamy wynik\n",
        "print(model_output) "
      ],
      "execution_count": null,
      "outputs": []
    },
    {
      "cell_type": "markdown",
      "metadata": {
        "id": "4IK65h_G79UZ"
      },
      "source": [
        "Zadanie 3 - Przykład z większą liczbą danych"
      ]
    },
    {
      "cell_type": "code",
      "metadata": {
        "id": "wO8w-BVc8Csg"
      },
      "source": [
        "### Przygotowanie ###\n",
        "input_data = [np.array([3, 5]), np.array([ 1, -1]), np.array([0, 0]), np.array([8, 4])]\n",
        "weights = {\n",
        "    'node_0': array([2, 4]), \n",
        "    'node_1': array([ 4, -5]), \n",
        "    'output': array([2, 7])\n",
        "    }\n",
        "\n",
        "def relu(input):\n",
        "    output = max(input, 0)\n",
        "    return(output)\n",
        "\n",
        "#######################\n",
        "\n",
        "# Definiujemy funkcję predict_with_network(), której zadaniem będzie \n",
        "# obliczanie przewidywania dla pojedynczego wpisu\n",
        "def predict_with_network(input_data_row, weights):\n",
        "\n",
        "    # Liczymy wartość w węźle 0\n",
        "    node_0_input = ____\n",
        "    node_0_output = ____\n",
        "\n",
        "    # Liczymy wartość w węźle 1\n",
        "    node_1_input = ____\n",
        "    node_1_output = ____\n",
        "\n",
        "    # Układamy wyliczone wartość w warstwę: hidden_layer_outputs\n",
        "    hidden_layer_outputs = np.array([node_0_output, node_1_output])\n",
        "    \n",
        "    # Liczymy wartość wyjściową (w tym przypadku przykładamy funkcję aktywacji \n",
        "    # do wyjścowej wartości)\n",
        "    input_to_final_layer = ____\n",
        "    model_output = ____\n",
        "    \n",
        "    # Zwracamy obliczoną wartość wyjściową dla pojedynczego wpisu\n",
        "    return(model_output)\n",
        "\n",
        "\n",
        "# Tworzymy pustą listę do przechowywania obliczonych wartości\n",
        "results = []\n",
        "for input_data_row in input_data:\n",
        "    # Dodajemy obliczoną wartość (trzeba obliczyć) do listy\n",
        "    results.append(____)\n",
        "\n",
        "# Wyświetlamy listę z otrzymanymi wynikami\n",
        "print(results)"
      ],
      "execution_count": null,
      "outputs": []
    },
    {
      "cell_type": "markdown",
      "metadata": {
        "id": "s5W7rLW0I9zq"
      },
      "source": [
        "Zadanie 4 - Sieć wielowarstwowa"
      ]
    },
    {
      "cell_type": "code",
      "metadata": {
        "id": "HK84UFBbJBVT"
      },
      "source": [
        "### Przygotowania ###\n",
        "import numpy as np\n",
        "input_data = np.array([____, ____])\n",
        "weights = {\n",
        "    'node_0_0': np.array([____, ____]),\n",
        "    'node_0_1': np.array([____, ____]),\n",
        "    'node_1_0': np.array([____,  ____]),\n",
        "    'node_1_1': np.array([____, ____]),\n",
        "    'output': np.array([____, ____])\n",
        "    }\n",
        "\n",
        "def relu(input):\n",
        "    output = max(input, 0)\n",
        "    return(output)\n",
        "\n",
        "######################\n",
        "\n",
        "def predict_with_network(input_data):\n",
        "    # Liczymy wartość w węźle 0 pierwszej ukrytej warstwy\n",
        "    node_0_0_input = (____ * ____).sum()\n",
        "    node_0_0_output = relu(____)\n",
        "\n",
        "    # Liczymy wartość w węźle 1 pierwszej ukrytej warstwy\n",
        "    node_0_1_input = ____\n",
        "    node_0_1_output = ____\n",
        "\n",
        "    # Układamy wyliczone wartości w warstwę\n",
        "    hidden_0_outputs = np.array([node_0_0_output, node_0_1_output])\n",
        "    \n",
        "    # Liczymy wartość w węźle 0 dla drugiej ukrytej warstwy\n",
        "    node_1_0_input = ____\n",
        "    node_1_0_output = ____\n",
        "\n",
        "    # Liczymy wartość w węźle 1 dla drugiej ukrytej warstwy\n",
        "    node_1_1_input = ____\n",
        "    node_1_1_output = ____\n",
        "\n",
        "    # Układamy wyliczone wartości w warstwę\n",
        "    hidden_1_outputs = np.array([node_1_0_output, node_1_1_output])\n",
        "\n",
        "    # Liczymy wartość wyjściową\n",
        "    model_output = ____\n",
        "    \n",
        "    # Zwracamy wyliczoną wartość\n",
        "    return(model_output)\n",
        "\n",
        "output = predict_with_network(input_data)\n",
        "print(output)\n"
      ],
      "execution_count": null,
      "outputs": []
    },
    {
      "cell_type": "markdown",
      "metadata": {
        "id": "cPNlKdrER_Be"
      },
      "source": [
        "Zadnie 5 - zmiana wag"
      ]
    },
    {
      "cell_type": "code",
      "metadata": {
        "id": "7CE2-yoiSBiF"
      },
      "source": [
        "### Przygotowanie ###\n",
        "def predict_with_network(input_data_row, weights):\n",
        "\n",
        "    node_0_input = (input_data_row * weights['node_0']).sum()\n",
        "    node_0_output = relu(node_0_input)\n",
        "\n",
        "    node_1_input = (input_data_row * weights['node_1']).sum()\n",
        "    node_1_output = relu(node_1_input)\n",
        "\n",
        "    hidden_layer_outputs = np.array([node_0_output, node_1_output])    \n",
        "\n",
        "    input_to_final_layer = np.array(hidden_layer_outputs * weights['output']).sum()\n",
        "    model_output = relu(input_to_final_layer)\n",
        "    \n",
        "    return(model_output)\n",
        "########################\n",
        "\n",
        "# Dane wejściowe\n",
        "input_data = np.array([____, ____])\n",
        "\n",
        "# Aktualne wagi\n",
        "weights_0 = {'node_0': [____, ____],\n",
        "             'node_1': [____, ____],\n",
        "             'output': [____, ____]\n",
        "            }\n",
        "\n",
        "# Rzeczywista wartość celu\n",
        "target_actual = 3\n",
        "\n",
        "# Przewidywanie przy użyciu aktualych wag\n",
        "model_output_0 = predict_with_network(input_data, weights_0)\n",
        "\n",
        "# Wartość błędu\n",
        "error_0 = model_output_0 - target_actual\n",
        "\n",
        "# Wagi, które generują idealną predycję\n",
        "weights_1 = {'node_0': [____, ____],\n",
        "             'node_1': [____, ____,\n",
        "             'output': [____, ____]\n",
        "            }\n",
        "\n",
        "# Przewidywanie z użyciem nowych wag\n",
        "model_output_1 = ____\n",
        "\n",
        "# Błąd dla nowych wag\n",
        "error_1 = ____ - ____\n",
        "\n",
        "# Wyświetlamy stary i nowy błąd\n",
        "print(error_0)\n",
        "print(error_1)\n"
      ],
      "execution_count": null,
      "outputs": []
    },
    {
      "cell_type": "markdown",
      "metadata": {
        "id": "sXAlEz-7Ub4H"
      },
      "source": [
        "Zadanie 6 - zmiana wag dla większej liczby danych (funkcja kosztu) i dwóch warstw ukrytych"
      ]
    },
    {
      "cell_type": "code",
      "metadata": {
        "id": "8-Ls8bzxUdKV"
      },
      "source": [
        "### Przygotowanie ###\n",
        "import numpy\n",
        "from sklearn.metrics import mean_squared_error\n",
        "\n",
        "def predict_with_network(input_data_row, weights):\n",
        "\n",
        "    node_0_input = (input_data_row * weights['node_0']).sum()\n",
        "    node_0_output = relu(node_0_input)\n",
        "\n",
        "    node_1_input = (input_data_row * weights['node_1']).sum()\n",
        "    node_1_output = relu(node_1_input)\n",
        "\n",
        "    hidden_layer_outputs = np.array([node_0_output, node_1_output])    \n",
        "\n",
        "    input_to_final_layer = np.array(hidden_layer_outputs * weights['output']).sum()\n",
        "    model_output = relu(input_to_final_layer)\n",
        "    \n",
        "    return(model_output)\n",
        "\n",
        "input_data = [\n",
        "              np.array([0, 3]), \n",
        "              np.array([1, 2]), \n",
        "              np.array([-1, -2]), \n",
        "              np.array([4, 0])\n",
        "              ]\n",
        "\n",
        "# wagi 0\n",
        "weights_0 = {\n",
        "    'node_0': np.array([2, 1]), \n",
        "    'node_1': np.array([1, 2]), \n",
        "    'output': np.array([1, 1])\n",
        "}\n",
        "\n",
        "# wagi 1\n",
        "weights_1 = {\n",
        "    'node_0': np.array([2, 1]),\n",
        "    'node_1': np.array([1. , 1.5]),\n",
        "    'output': np.array([1. , 1.5])\n",
        "}\n",
        "\n",
        "target_actuals = [1, 3, 5, 7]\n",
        "########################\n",
        "\n",
        "# Lista przechowująca wyniki dla wag 0\n",
        "model_output_0 = []\n",
        "# Lista przechowująca wyniki dla wag 1\n",
        "model_output_1 = []\n",
        "\n",
        "# Pętla po danych wejściowych\n",
        "for row in input_data:\n",
        "    # Dla każdego wpisu dodaj do listy module_output_0 jego przewidywany wynik \n",
        "    # z wagami 0\n",
        "    model_output_0.append(____)\n",
        "    \n",
        "    # Dla każdego wpisu dodaj do listy module_output_1 jego przewidywany wyni \n",
        "    # z wagami 1\n",
        "    model_output_1.append(____)\n",
        "\n",
        "# Błąd średnio kwadratowy dla wag 0\n",
        "mse_0 = ____\n",
        "\n",
        "# Błąd średnio kwadratowy dla wag 1\n",
        "mse_1 = ____\n",
        "\n",
        "# Print mse_0 and mse_1\n",
        "print(f\"Błąd średniokwadratowy (MSE) z wagami 0: {mse_0}\")\n",
        "print(f\"Błąd średniokwadratowy (MSE) z wagami 1: {mse_1}\")\n",
        "\n"
      ],
      "execution_count": null,
      "outputs": []
    }
  ]
}